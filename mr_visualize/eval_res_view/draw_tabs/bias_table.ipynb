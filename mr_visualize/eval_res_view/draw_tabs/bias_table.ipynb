{
 "cells": [
  {
   "cell_type": "code",
   "execution_count": 1,
   "metadata": {},
   "outputs": [],
   "source": [
    "from mr_eval.utils.utils import *\n",
    "import os\n",
    "from copy import deepcopy\n",
    "import numpy as np\n",
    "\n",
    "data_dir = \"/mnt/petrelfs/songmingyang/code/reasoning/MR_Hallucination/mr_eval/tasks/prmtest_classified/data\"\n",
    "dataset_type = \"dir_of_jsonl\"\n",
    "\n",
    "#domain_inconsistency\tredundency\tmulti_solutions\tdeception\tconfidence\tstep_contradiction\tcircular\tmissing_condition\tcounterfactual\n",
    "classification_name_dict = dict(\n",
    "    domain_inconsistency=\"DC.\",\n",
    "    redundency=\"NR.\",\n",
    "    multi_solutions=\"MS.\",\n",
    "    deception=\"DR.\",\n",
    "    confidence=\"CI.\",\n",
    "    step_contradiction=\"SC.\",\n",
    "    circular=\"NCL.\",\n",
    "    missing_condition=\"PS.\",\n",
    "    counterfactual=\"ES.\"\n",
    ")\n",
    "classifications = [\"redundency\", \"circular\", \"counterfactual\", \"step_contradiction\", \"domain_inconsistency\",  \"confidence\", \"missing_condition\", \"deception\", \"multi_solutions\", ]\n"
   ]
  },
  {
   "cell_type": "code",
   "execution_count": 5,
   "metadata": {},
   "outputs": [
    {
     "name": "stdout",
     "output_type": "stream",
     "text": [
      "bias:  0.20592848872394862\n"
     ]
    }
   ],
   "source": [
    "data_files = os.listdir(data_dir)\n",
    "data_files = [f for f in data_files if f.endswith(\".jsonl\")]\n",
    "raw_data = []\n",
    "for data_file in data_files:\n",
    "    raw_data.extend(process_jsonl(os.path.join(data_dir, data_file)))\n",
    "    \n",
    "bias = []\n",
    "for item in raw_data:\n",
    "    error_length = len(item[\"error_steps\"])\n",
    "    total_length = len(item[\"modified_process\"])\n",
    "    if error_length <= total_length:\n",
    "        accuracy = 1 - error_length / total_length\n",
    "        accuracy_bias = error_length / total_length\n",
    "        bias.append(accuracy_bias)\n",
    "\n",
    "print(\"bias: \", np.mean(bias))"
   ]
  },
  {
   "cell_type": "code",
   "execution_count": null,
   "metadata": {},
   "outputs": [],
   "source": []
  }
 ],
 "metadata": {
  "kernelspec": {
   "display_name": "smoe",
   "language": "python",
   "name": "python3"
  },
  "language_info": {
   "codemirror_mode": {
    "name": "ipython",
    "version": 3
   },
   "file_extension": ".py",
   "mimetype": "text/x-python",
   "name": "python",
   "nbconvert_exporter": "python",
   "pygments_lexer": "ipython3",
   "version": "3.11.8"
  }
 },
 "nbformat": 4,
 "nbformat_minor": 2
}
