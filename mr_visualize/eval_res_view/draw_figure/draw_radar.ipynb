{
 "cells": [
  {
   "cell_type": "code",
   "execution_count": 1,
   "metadata": {},
   "outputs": [],
   "source": [
    "from mr_eval.utils.utils import *\n",
    "import os\n",
    "import plotly\n",
    "import plotly.express as px\n",
    "import pandas as pd\n",
    "import plotly.graph_objects as go\n",
    "import plotly.io as pio\n",
    "import json\n",
    "import matplotlib.pyplot as plt\n",
    "import numpy as np\n",
    "from matplotlib.font_manager import FontProperties\n",
    "from matplotlib import font_manager\n",
    "\n",
    "def list_jsonl_files(folder_path):\n",
    "    \"\"\"\n",
    "    列举文件夹中的所有 .jsonl 文件\n",
    "    Args:\n",
    "        folder_path (str): 文件夹路径\n",
    "    Returns:\n",
    "        List[str]: 所有 .jsonl 文件的路径\n",
    "    \"\"\"\n",
    "    return [f for f in os.listdir(folder_path) if f.endswith(\".jsonl\")]\n",
    "\n",
    "\n",
    "## Model names\n",
    "prm_model_name_dict = dict(\n",
    "    skyworkprm_1_5B=\"Skywork-1.5B\",\n",
    "    skyworkprm_7B=\"Skywork-PRM-7B\",\n",
    "    llemma7b_prm_prm800k=\"Llemma-PRM800k-7B\",\n",
    "    llemma7b_prm_metamath=\"Llemma-MetaMath-7B\",\n",
    "    llemma7b_oprm_prm800k=\"Llemma-oprm-7B\",\n",
    "    mathminos_mistral=\"MATHMinos-7B\",\n",
    "    mathshepherd=\"MathShepherd-7B\",\n",
    "    reasoneval7b=\"ReasonEval-7B\",\n",
    "    llama3_1_8b_prm_mistral=\"RLHFlow-PRM-Mistral-8B\",\n",
    "    llama3_1_8b_prm_deepseek=\"RLHFlow-PRM-Deepseek-8B\",\n",
    "    reasoneval34b=\"ReasonEval-34B\",\n",
    ")\n",
    "close_model_name_dict = dict(\n",
    "    gpt4o=\"GPT-4o\",\n",
    "    o1mini=\"o1-mini\",\n",
    "    o1preview=\"o1-preview\",\n",
    "    gemini_2_flash=\"Gemini-2.0-flash-exp\",\n",
    "    gemini_2_thinking=\"Gemini-thinking\",\n",
    ")\n",
    "    \n",
    "open_model_name_dict = dict(\n",
    "    qwen_qwq=\"QwQ-Preview-32B\",\n",
    ")\n",
    "\n",
    "all_model_name_dict = prm_model_name_dict | close_model_name_dict | open_model_name_dict\n",
    "\n",
    "\n",
    "classification_name_dict = dict(\n",
    "    domain_inconsistency=\"DC.\",\n",
    "    redundency=\"NR.\",\n",
    "    multi_solutions=\"MS.\",\n",
    "    deception=\"DR.\",\n",
    "    confidence=\"CI.\",\n",
    "    step_contradiction=\"SC.\",\n",
    "    circular=\"NCL.\",\n",
    "    missing_condition=\"PS.\",\n",
    "    counterfactual=\"ES.\"\n",
    ")\n",
    "classification_parallel_dict = dict(\n",
    "    simplicity=dict(\n",
    "        redundency=\"NR.\",\n",
    "        circular=\"NCL.\",\n",
    "    ),\n",
    "    soundness=dict(\n",
    "        counterfactual=\"ES.\",\n",
    "        step_contradiction=\"SC.\",\n",
    "        domain_inconsistency=\"DC.\",\n",
    "        confidence=\"CI.\",\n",
    "    ),\n",
    "    sensitivity=dict(\n",
    "        missing_condition=\"PS.\",\n",
    "        deception=\"DR.\",\n",
    "        multi_solutions=\"MS.\",\n",
    "    )\n",
    ")\n",
    "classification_parallel_dict[\"all\"] = classification_parallel_dict[\"simplicity\"] | classification_parallel_dict[\"soundness\"] | classification_parallel_dict[\"sensitivity\"]\n",
    "classifications = [\"redundency\", \"counterfactual\", \"step_contradiction\", \"domain_inconsistency\",  \"confidence\", \"missing_condition\", \"deception\", \"multi_solutions\", \"circular\" ]\n",
    "metrics = [\"f1\", \"negative_f1\", \"total_step_acc\", \"correct_step_acc\", \"wrong_step_acc\", \"first_error_acc\", \"similarity\",]\n",
    "\n",
    "\n",
    "\n",
    "\n",
    "\n",
    "def get_res_dict(file_dict,model_lists=None):\n",
    "    res_dict = {}\n",
    "    if not model_lists:\n",
    "        for model_name, file_path in file_dict.items():\n",
    "            res_dict[model_name] = process_jsonl(file_path)[-1]\n",
    "    else:\n",
    "        for model_name in model_lists:\n",
    "            file_path = file_dict[model_name]\n",
    "            res_dict[model_name] = process_jsonl(file_path)[-1]\n",
    "    return res_dict\n",
    "\n",
    "\n",
    "def get_prmscore_from_current_res_dict(res_dict,classification=None):\n",
    "    '''\n",
    "    Get PRM score from model level dict\n",
    "    '''\n",
    "    if not classification:\n",
    "        prm_score = res_dict[\"total_hallucination_results\"]['f1'] * 0.5 + res_dict[\"total_hallucination_results\"]['negative_f1'] * 0.5\n",
    "    else:\n",
    "        if classification in [\"multi_solutions\"]:\n",
    "            prm_score = res_dict[\"hallucination_type_results\"]['f1'][classification]\n",
    "        else:\n",
    "            prm_score = res_dict[\"hallucination_type_results\"]['f1'][classification] * 0.5 + res_dict[\"hallucination_type_results\"]['negative_f1'][classification] * 0.5\n",
    "    return prm_score\n",
    "\n",
    "\n",
    "def get_avg_prmscore_from_current_res_dict(res_dict,classifications):\n",
    "    '''\n",
    "    Get AVG PRM score from model level dict\n",
    "    '''\n",
    "    assert classifications\n",
    "    res = [get_prmscore_from_current_res_dict(res_dict,classification) for classification in classifications]\n",
    "    return sum(res) / len(res)\n",
    "    \n",
    "\n",
    "def get_res_str(model_dict,classification_dict,res_dict):\n",
    "    res_str = \"\"\n",
    "    # current_classification_dict = classification_dict[classification_name]\n",
    "    for model_name, model_display_name in model_dict.items():\n",
    "        temp_str = f\"{model_display_name}\"\n",
    "        current_res_dict = res_dict[model_name]\n",
    "        prm_score = get_prmscore_from_current_res_dict(current_res_dict)\n",
    "        all_model_scores = sorted([get_prmscore_from_current_res_dict(res) for res in res_dict.values()],reverse=True)\n",
    "        if prm_score == max(all_model_scores):\n",
    "            temp_str += f\" & \\\\textbf{{{prm_score * 100:.1f}}}\"\n",
    "        elif prm_score == all_model_scores[1]:\n",
    "            temp_str += f\" & \\\\underline{{{prm_score * 100:.1f}}}\"\n",
    "        else:\n",
    "            temp_str += f\" & {prm_score * 100:.1f}\"\n",
    "        \n",
    "        for big_classification, current_classification_dict in classification_dict.items():\n",
    "            all_avt = sorted([get_avg_prmscore_from_current_res_dict(res,list(current_classification_dict.keys())) for res in res_dict.values()], reverse=True)\n",
    "            avg = []\n",
    "            for classification, display_classification_name in current_classification_dict.items():\n",
    "                prm_score = get_prmscore_from_current_res_dict(current_res_dict,classification)\n",
    "                all_prm_scores = sorted([get_prmscore_from_current_res_dict(res,classification) for res in res_dict.values()], reverse=True)\n",
    "                avg.append(prm_score)\n",
    "                if prm_score == max(all_prm_scores):\n",
    "                    temp_str += f\" & \\\\textbf{{{prm_score * 100:.1f}}}\"\n",
    "                elif prm_score == all_prm_scores[1]:\n",
    "                    temp_str += f\" & \\\\underline{{{prm_score * 100:.1f}}}\"\n",
    "                else:\n",
    "                    temp_str += f\" & {prm_score * 100:.1f}\"\n",
    "            avg_score = sum(avg) / len(avg)\n",
    "            if avg_score == max(all_avt):\n",
    "                temp_str += f\" & \\\\textbf{{{avg_score * 100:.1f}}}\"\n",
    "            elif avg_score == all_avt[1]:\n",
    "                temp_str += f\" & \\\\underline{{{avg_score * 100:.1f}}}\"\n",
    "            else:\n",
    "                temp_str += f\" & {avg_score * 100:.1f}\"\n",
    "        temp_str += \"\\\\\\\\\\n\"\n",
    "        res_str += temp_str\n",
    "    return res_str"
   ]
  },
  {
   "cell_type": "code",
   "execution_count": 2,
   "metadata": {},
   "outputs": [],
   "source": [
    "## File paths\n",
    "res_dir = \"/mnt/petrelfs/songmingyang/code/reasoning/MR_Hallucination/mr_eval/scripts/logs/prmtest_classified\"\n",
    "res_files = list_jsonl_files(res_dir)\n",
    "res_names = [f.split(\".\")[0] for f in res_files]\n",
    "res_paths = [os.path.join(res_dir, f) for f in res_files]\n",
    "file_dict = dict(zip(res_names, res_paths))\n",
    "res_dict = get_res_dict(file_dict)\n",
    "draw_point_dict = {k:[] for k in list(res_dict.keys())}\n",
    "for model_name, current_res_dict in res_dict.items():\n",
    "    for classification in list(classifications):\n",
    "        draw_point_dict[model_name].append(get_prmscore_from_current_res_dict(current_res_dict,classification)*100)\n",
    "\n",
    "display_model_list = [\"reasoneval34b\",\"mathminos_mistral\",\"mathshepherd\",\"skyworkprm_1_5B\",\"gemini_2_thinking\",\"o1mini\",\"gpt4o\"]\n",
    "# Colors \n",
    "\n",
    "radar_labels = [classification_name_dict[i] for i in classifications]\n",
    "radar_dims = len(radar_labels)\n",
    "max_data = 100\n",
    "theta = np.linspace(0, 2 * np.pi, radar_dims, endpoint=False).tolist()\n",
    "line_styles = ['-', '--',]\n",
    "markers = ['o', 's', '^',]  # 圆形、方形、三角形、菱形\n",
    "fill_color = \"#b5b1b1\"\n",
    "# 将数据补齐闭合雷达图\n",
    "for model_name, data in draw_point_dict.items():\n",
    "    draw_point_dict[model_name].append(draw_point_dict[model_name][0])\n",
    "theta.append(theta[0])"
   ]
  },
  {
   "cell_type": "code",
   "execution_count": 5,
   "metadata": {},
   "outputs": [
    {
     "data": {
      "image/png": "[encoded data removed]",
      "text/plain": [
       "<Figure size 640x640 with 1 Axes>"
      ]
     },
     "metadata": {},
     "output_type": "display_data"
    }
   ],
   "source": [
    "soft_palette = [\n",
    "    \"#ff7428\",  # 柔和cheng\n",
    "    \"#a75870\",   # 柔和紫\n",
    "    \"#4c72b0\",  # 柔和蓝\n",
    "    \"#294191\" ,  # 柔和深蓝\n",
    "    \"#2d9852\",  # 柔和绿\n",
    "    \"#ff7428\",  # 柔和cheng\n",
    "    \"#cd5a22\",  # 柔和红\n",
    "    \n",
    "    \"#fbcd6f\", # 柔和黄\n",
    "    \"#2d9852\",  # 柔和绿\n",
    "    \"#335b88\",  # 柔和hui\n",
    "    \"#4c72b0\",  # 柔和蓝\n",
    "    \"#fce5ae\", # 柔和黄\n",
    "    \"#64b5cd\",   # 柔和青\n",
    "    \"#cd5a22\",  # 柔和红\n",
    "]\n",
    "\n",
    "font_path = '/mnt/petrelfs/songmingyang/code/tools/tool_code/result_dealing/draw_fig/Comic Sans MS.ttf'  \n",
    "font_path = \"/mnt/petrelfs/songmingyang/.config/fonts/Times New Roman.ttf\"\n",
    "custom_font = font_manager.FontProperties(fname=font_path,size=14)\n",
    "\n",
    "# 创建图形\n",
    "fig, ax = plt.subplots(figsize=(6.4, 6.4), subplot_kw={'projection': 'polar'})\n",
    "# 画标签\n",
    "yticks = [20,40,60,80,100]\n",
    "ax.set_yticks([20,40,60,80,100]) \n",
    "ax.set_yticklabels([])\n",
    "for i, ytick in enumerate(yticks):\n",
    "    ax.text(0, ytick+2, f\"{ytick}\", fontsize=10, color=\"black\", ha=\"left\", va=\"center\", fontproperties=custom_font)\n",
    "    \n",
    "# 绘制雷达图\n",
    "for idx,model_name in enumerate(display_model_list):\n",
    "    data = draw_point_dict[model_name]\n",
    "    display_name = all_model_name_dict.get(model_name,model_name)\n",
    "    current_color = soft_palette[idx%len(soft_palette)]\n",
    "    ax.fill(theta, data, alpha=0.07, color=current_color)\n",
    "    ax.plot(theta, data, label=display_name, linewidth=2, linestyle=line_styles[idx%len(line_styles)], marker=markers[idx%len(markers)], markersize=8, color=soft_palette[idx%len(soft_palette)])\n",
    "\n",
    "\n",
    "\n",
    "# rotate_labels = benchmarks\n",
    "ax.set_thetagrids(angles=np.linspace(0, 360, radar_dims+1), labels=radar_labels+[\"\"])\n",
    "ax.set_theta_offset(np.pi / 2)  # 将起始角度设置为 90 度（正上方）\n",
    "labels = ax.get_xticklabels()\n",
    "# font_path = './Times New Roman.ttf'\n",
    "# font_prop = FontProperties(fname=font_path)\n",
    "for label in labels:\n",
    "    label.set_fontsize(12)  # 设置字体大小\n",
    "    label.set_color('black')  # 设置字体颜色\n",
    "    label.set_fontproperties(custom_font)  # 设置字体类型\n",
    "\n",
    "\n",
    "\n",
    "# ax.set_rgrids(np.arange(0.85, 1.02, 0.05),)  # 例如，设置每0.2单位一条径向网格线\n",
    "plt.grid(True, color='black', linestyle='--', linewidth=1, alpha=0.9)\n",
    "# 设置背景颜色、网格线颜色、以及图形属性\n",
    "ax.set_facecolor('white')\n",
    "ax.xaxis.grid(True, color='gray', linestyle='-')\n",
    "ax.yaxis.grid(True, color='gray', linestyle='-')\n",
    "ax.spines['polar'].set_color('gray')  # 设置最外圈颜色\n",
    "ax.spines['polar'].set_linewidth(3)    # 设置最外圈线宽\n",
    "ax.spines['polar'].set_visible(True)\n",
    "\n",
    "# 设置极轴的范围\n",
    "ax.set_ylim(20,100)\n",
    "\n",
    "# 设置角度标签的字体大小\n",
    "ax.tick_params(axis='x', which='major', labelsize=15)\n",
    "\n",
    "# 添加图例\n",
    "ax.legend(loc='upper center', bbox_to_anchor=(0.5, -0.05), ncol=3, frameon=True,fontsize=15,prop = custom_font)\n",
    "fig.savefig('./res/llava_radar.pdf', format='pdf',bbox_inches='tight')\n",
    "fig.savefig('./res/llava_radar.svg', format='svg',bbox_inches='tight')\n",
    "# 显示图形\n",
    "plt.show()"
   ]
  },
  {
   "cell_type": "code",
   "execution_count": null,
   "metadata": {},
   "outputs": [],
   "source": []
  },
  {
   "cell_type": "code",
   "execution_count": 54,
   "metadata": {},
   "outputs": [
    {
     "name": "stdout",
     "output_type": "stream",
     "text": [
      "len of base_data: 16 len of rbase: 17, len of theta: 17, len of rbalance: 17\n"
     ]
    }
   ],
   "source": [
    "print(f\"len of base_data: {len(base_data)} len of rbase: {len(r_base)}, len of theta: {len(theta)}, len of rbalance: {len(r_balanced)}\")"
   ]
  },
  {
   "cell_type": "code",
   "execution_count": null,
   "metadata": {},
   "outputs": [],
   "source": []
  },
  {
   "cell_type": "code",
   "execution_count": 16,
   "metadata": {},
   "outputs": [
    {
     "ename": "NameError",
     "evalue": "name 'go' is not defined",
     "output_type": "error",
     "traceback": [
      "\u001b[0;31m---------------------------------------------------------------------------\u001b[0m",
      "\u001b[0;31mNameError\u001b[0m                                 Traceback (most recent call last)",
      "Cell \u001b[0;32mIn[16], line 1\u001b[0m\n\u001b[0;32m----> 1\u001b[0m fig \u001b[38;5;241m=\u001b[39m \u001b[43mgo\u001b[49m\u001b[38;5;241m.\u001b[39mFigure()\n\u001b[1;32m      3\u001b[0m fig\u001b[38;5;241m.\u001b[39madd_trace(go\u001b[38;5;241m.\u001b[39mScatterpolar(\n\u001b[1;32m      4\u001b[0m       mode\u001b[38;5;241m=\u001b[39m\u001b[38;5;124m'\u001b[39m\u001b[38;5;124mlines+text\u001b[39m\u001b[38;5;124m'\u001b[39m,\n\u001b[1;32m      5\u001b[0m       r\u001b[38;5;241m=\u001b[39m[i\u001b[38;5;241m/\u001b[39mj \u001b[38;5;28;01mfor\u001b[39;00m i,j \u001b[38;5;129;01min\u001b[39;00m \u001b[38;5;28mzip\u001b[39m(base_data\u001b[38;5;241m+\u001b[39m[base_data[\u001b[38;5;241m0\u001b[39m]],aug_data\u001b[38;5;241m+\u001b[39m[aug_data[\u001b[38;5;241m0\u001b[39m]])],\n\u001b[0;32m   (...)\u001b[0m\n\u001b[1;32m     12\u001b[0m       textfont\u001b[38;5;241m=\u001b[39m\u001b[38;5;28mdict\u001b[39m(color\u001b[38;5;241m=\u001b[39m\u001b[38;5;124m'\u001b[39m\u001b[38;5;124morange\u001b[39m\u001b[38;5;124m'\u001b[39m) \n\u001b[1;32m     13\u001b[0m ))\n\u001b[1;32m     14\u001b[0m fig\u001b[38;5;241m.\u001b[39madd_trace(go\u001b[38;5;241m.\u001b[39mScatterpolar(\n\u001b[1;32m     15\u001b[0m       mode\u001b[38;5;241m=\u001b[39m\u001b[38;5;124m'\u001b[39m\u001b[38;5;124mlines+text\u001b[39m\u001b[38;5;124m'\u001b[39m,\n\u001b[1;32m     16\u001b[0m       r\u001b[38;5;241m=\u001b[39m[i\u001b[38;5;241m/\u001b[39mj \u001b[38;5;28;01mfor\u001b[39;00m i,j \u001b[38;5;129;01min\u001b[39;00m \u001b[38;5;28mzip\u001b[39m(balanced_data\u001b[38;5;241m+\u001b[39m[balanced_data[\u001b[38;5;241m0\u001b[39m]],aug_data\u001b[38;5;241m+\u001b[39m[aug_data[\u001b[38;5;241m0\u001b[39m]])],\n\u001b[0;32m   (...)\u001b[0m\n\u001b[1;32m     23\u001b[0m       textfont\u001b[38;5;241m=\u001b[39m\u001b[38;5;28mdict\u001b[39m(color\u001b[38;5;241m=\u001b[39m\u001b[38;5;124m'\u001b[39m\u001b[38;5;124mgreen\u001b[39m\u001b[38;5;124m'\u001b[39m) \n\u001b[1;32m     24\u001b[0m ))\n",
      "\u001b[0;31mNameError\u001b[0m: name 'go' is not defined"
     ]
    }
   ],
   "source": [
    "\n",
    "fig = go.Figure()\n",
    "\n",
    "fig.add_trace(go.Scatterpolar(\n",
    "      mode='lines+text',\n",
    "      r=[i/j for i,j in zip(base_data+[base_data[0]],aug_data+[aug_data[0]])],\n",
    "      theta= benchmarks + [benchmarks[0]],\n",
    "      fill= 'toself',\n",
    "      name= 'Base',\n",
    "      line=dict(color='orange', dash='solid'),\n",
    "      text=[f\"{i:.1f}\" for i in base_data+[base_data[0]]],\n",
    "      textposition='middle left',\n",
    "      textfont=dict(color='orange') \n",
    "))\n",
    "fig.add_trace(go.Scatterpolar(\n",
    "      mode='lines+text',\n",
    "      r=[i/j for i,j in zip(balanced_data+[balanced_data[0]],aug_data+[aug_data[0]])],\n",
    "      theta= benchmarks + [benchmarks[0]],\n",
    "      fill= 'none',\n",
    "      name= 'Balanced',\n",
    "      line=dict(color='green', dash='solid'),\n",
    "      text=[f\"{i:.1f}\" for i in balanced_data+[balanced_data[0]]],\n",
    "      textposition='middle right',\n",
    "      textfont=dict(color='green') \n",
    "))\n",
    "\n",
    "fig.add_trace(go.Scatterpolar(\n",
    "      mode='lines+text',\n",
    "      r=[i/j for i,j in zip(aug_data+[aug_data[0]],aug_data+[aug_data[0]])],\n",
    "      theta= benchmarks + [benchmarks[0]],\n",
    "      fill= 'none',\n",
    "      name= 'Ours',\n",
    "      line=dict(color='blue', dash='solid'),\n",
    "      text=[f\"{i:.1f}\" for i in aug_data+[aug_data[0]]],\n",
    "      textposition='middle left',\n",
    "      textfont=dict(color='blue') \n",
    "))\n",
    "\n",
    "\n",
    "\n",
    "fig.update_layout(\n",
    "    polar=dict(\n",
    "        bgcolor='white',\n",
    "        radialaxis=dict(\n",
    "            visible=True,\n",
    "            showgrid=True,\n",
    "            gridcolor='lightgray',  # 设置径向网格线的颜色\n",
    "            showticklabels=False,\n",
    "            tickvals=[0.85, 0.9, 0.95, 1.0, 1.02],  # 设置径向网格线的间距\n",
    "            range=[0.85, 1.02],\n",
    "            \n",
    "        ),\n",
    "        angularaxis=dict(\n",
    "            tick0='auto',\n",
    "            tickfont=dict(size=15),  # 设置分类标签的字体大小\n",
    "            showgrid=True,\n",
    "            gridcolor='lightgray',  # 设置角度网格线的颜色\n",
    "            linecolor='black',  # 设置最外圈的颜色为黑色\n",
    "            linewidth=1  # 设置最外圈的线宽为2\n",
    "        )\n",
    "\n",
    "    ),\n",
    "    showlegend=True,\n",
    "    legend=dict(\n",
    "        x=0.5,  # 调整图例的水平位置\n",
    "        y=-0.1,  # 调整图例的垂直位置\n",
    "        bgcolor='rgba(255, 255, 255, 0.6)',  # 设置图例的背景颜色及透明度\n",
    "        bordercolor='rgba(0, 0, 0, 0.1)',  # 设置图例的边框颜色为黑色\n",
    "        borderwidth=2,  # 设置图例的边框宽度为2像素\n",
    "        xanchor='center',  # 图例的x锚点为中心\n",
    "        yanchor='top',     # 图例的y锚点为顶部\n",
    "        orientation='h',   # 图例水平排列\n",
    "        traceorder=\"normal\",  # 控制图例中图例项的顺序\n",
    "        font=dict(  # 设置图例文字的属性\n",
    "            # family=\"Times New Roman\",  # 设置字体\n",
    "            size=13,  # 设置文字大小\n",
    "            color=\"black\"  # 设置文字颜色\n",
    "        ),\n",
    "        itemsizing='trace'  # 设置图例项的大小为常量\n",
    "    ),\n",
    "  \n",
    "    \n",
    "    height=640,  # 设置画布高度\n",
    "    width=640  # 设置画布宽度\n",
    ")\n",
    "\n",
    "\n",
    "fig.show()\n",
    "pio.write_image(fig, f\"res/llava_radar.pdf\")\n"
   ]
  },
  {
   "cell_type": "code",
   "execution_count": null,
   "metadata": {},
   "outputs": [],
   "source": [
    "\n",
    "eval_type_dict = {\n",
    "    \"Perception\": [\n",
    "        \"existence\",\n",
    "        \"count\",\n",
    "        \"position\",\n",
    "        \"color\",\n",
    "        \"posters\",\n",
    "        \"celebrity\",\n",
    "        \"scene\",\n",
    "        \"landmark\",\n",
    "        \"artwork\",\n",
    "        \"OCR\",\n",
    "    ],\n",
    "    \"Cognition\": [\n",
    "        \"commonsense_reasoning\",\n",
    "        \"numerical_calculation\",\n",
    "        \"text_translation\",\n",
    "        \"code_reasoning\",\n",
    "    ],\n",
    "}\n",
    "\n",
    "low_resource = \"bn ta ur ml mr te gu my jv sw\".split()\n",
    "medium_resource = \"id sv ar fa ko el th uk bg hi\".split()\n",
    "high_resource = \"en ru de zh ja fr es it nl pt vi \".split()\n",
    "\n",
    "\n",
    "type_list = eval_type_dict[\"Perception\"] + eval_type_dict[\"Cognition\"]\n",
    "\n",
    "metric_list=[]\n",
    "for i in type_list:\n",
    "    metric_list.append(i+\"_acc\")\n",
    "    # metric_list.append(i+\"_acc_plus\")\n",
    "# metric_list.append(\"percetion_score\")\n",
    "# metric_list.append(\"cognition_score\")"
   ]
  },
  {
   "cell_type": "code",
   "execution_count": 4,
   "metadata": {},
   "outputs": [],
   "source": [
    "def get_data_by_lang(lang,input_json_file_path, metric_list=metric_list):\n",
    "    with open(input_json_file_path, 'r') as f:\n",
    "        result = json.load(f)\n",
    "    result_data = result[\"results\"]\n",
    "    \n",
    "    language_index = f\"mme_mul_{lang}\"\n",
    "    result_chart = {}\n",
    "    for metric in metric_list:\n",
    "        metric_index = f\"mme_{metric},none\"\n",
    "        result_chart[metric]=result_data[language_index][metric_index]\n",
    "    \n",
    "    return result_chart"
   ]
  },
  {
   "cell_type": "code",
   "execution_count": 20,
   "metadata": {},
   "outputs": [
    {
     "data": {
      "application/vnd.plotly.v1+json": {
       "config": {
        "plotlyServerURL": "https://plot.ly"
       },
       "data": [
        {
         "fill": "toself",
         "line": {
          "color": "orange",
          "dash": "solid"
         },
         "mode": "lines+text",
         "name": "Base",
         "r": [
          0.6842105263157895,
          0.7169811320754716,
          0.7500000000000001,
          0.6000000000000001,
          0.902439024390244,
          0.7772727272727273,
          0.9737991266375546,
          0.840466926070039,
          0.9216589861751152,
          1,
          0.7291666666666667,
          0.6896551724137931,
          0.7142857142857143,
          0.8,
          0.6842105263157895
         ],
         "text": [
          "65.0",
          "63.3",
          "50.0",
          "55.0",
          "50.3",
          "50.3",
          "55.8",
          "54.3",
          "50.0",
          "50.0",
          "50.0",
          "50.0",
          "50.0",
          "50.0",
          "65.0"
         ],
         "textposition": "middle left",
         "theta": [
          "Existence",
          "Count",
          "Position",
          "Color",
          "Posters",
          "Celebrity",
          "Scene",
          "Landmark",
          "Artwork",
          "OCR",
          "Commonsense Reasoning",
          "Numerical Calculation",
          "Text Translation",
          "Code Reasoning",
          "Existence"
         ],
         "type": "scatterpolar"
        },
        {
         "fill": "none",
         "line": {
          "color": "blue",
          "dash": "solid"
         },
         "mode": "lines+text",
         "name": "Ours",
         "r": [
          1,
          1,
          1,
          1,
          1,
          1,
          1,
          1,
          1,
          1,
          1,
          1,
          1,
          1,
          1
         ],
         "text": [
          "95.0",
          "88.3",
          "66.7",
          "91.7",
          "55.8",
          "64.7",
          "57.2",
          "64.6",
          "54.2",
          "50.0",
          "68.6",
          "72.5",
          "70.0",
          "62.5",
          "95.0"
         ],
         "textposition": "middle left",
         "theta": [
          "Existence",
          "Count",
          "Position",
          "Color",
          "Posters",
          "Celebrity",
          "Scene",
          "Landmark",
          "Artwork",
          "OCR",
          "Commonsense Reasoning",
          "Numerical Calculation",
          "Text Translation",
          "Code Reasoning",
          "Existence"
         ],
         "type": "scatterpolar"
        }
       ],
       "layout": {
        "height": 620,
        "legend": {
         "font": {
          "color": "black",
          "size": 20
         },
         "itemsizing": "trace",
         "traceorder": "normal"
        },
        "polar": {
         "angularaxis": {
          "tick0": "auto",
          "tickfont": {
           "size": 18
          }
         },
         "radialaxis": {
          "range": [
           0.5,
           1.05
          ],
          "showgrid": true,
          "showticklabels": false,
          "visible": true
         }
        },
        "showlegend": true,
        "template": {
         "data": {
          "bar": [
           {
            "error_x": {
             "color": "#2a3f5f"
            },
            "error_y": {
             "color": "#2a3f5f"
            },
            "marker": {
             "line": {
              "color": "#E5ECF6",
              "width": 0.5
             },
             "pattern": {
              "fillmode": "overlay",
              "size": 10,
              "solidity": 0.2
             }
            },
            "type": "bar"
           }
          ],
          "barpolar": [
           {
            "marker": {
             "line": {
              "color": "#E5ECF6",
              "width": 0.5
             },
             "pattern": {
              "fillmode": "overlay",
              "size": 10,
              "solidity": 0.2
             }
            },
            "type": "barpolar"
           }
          ],
          "carpet": [
           {
            "aaxis": {
             "endlinecolor": "#2a3f5f",
             "gridcolor": "white",
             "linecolor": "white",
             "minorgridcolor": "white",
             "startlinecolor": "#2a3f5f"
            },
            "baxis": {
             "endlinecolor": "#2a3f5f",
             "gridcolor": "white",
             "linecolor": "white",
             "minorgridcolor": "white",
             "startlinecolor": "#2a3f5f"
            },
            "type": "carpet"
           }
          ],
          "choropleth": [
           {
            "colorbar": {
             "outlinewidth": 0,
             "ticks": ""
            },
            "type": "choropleth"
           }
          ],
          "contour": [
           {
            "colorbar": {
             "outlinewidth": 0,
             "ticks": ""
            },
            "colorscale": [
             [
              0,
              "#0d0887"
             ],
             [
              0.1111111111111111,
              "#46039f"
             ],
             [
              0.2222222222222222,
              "#7201a8"
             ],
             [
              0.3333333333333333,
              "#9c179e"
             ],
             [
              0.4444444444444444,
              "#bd3786"
             ],
             [
              0.5555555555555556,
              "#d8576b"
             ],
             [
              0.6666666666666666,
              "#ed7953"
             ],
             [
              0.7777777777777778,
              "#fb9f3a"
             ],
             [
              0.8888888888888888,
              "#fdca26"
             ],
             [
              1,
              "#f0f921"
             ]
            ],
            "type": "contour"
           }
          ],
          "contourcarpet": [
           {
            "colorbar": {
             "outlinewidth": 0,
             "ticks": ""
            },
            "type": "contourcarpet"
           }
          ],
          "heatmap": [
           {
            "colorbar": {
             "outlinewidth": 0,
             "ticks": ""
            },
            "colorscale": [
             [
              0,
              "#0d0887"
             ],
             [
              0.1111111111111111,
              "#46039f"
             ],
             [
              0.2222222222222222,
              "#7201a8"
             ],
             [
              0.3333333333333333,
              "#9c179e"
             ],
             [
              0.4444444444444444,
              "#bd3786"
             ],
             [
              0.5555555555555556,
              "#d8576b"
             ],
             [
              0.6666666666666666,
              "#ed7953"
             ],
             [
              0.7777777777777778,
              "#fb9f3a"
             ],
             [
              0.8888888888888888,
              "#fdca26"
             ],
             [
              1,
              "#f0f921"
             ]
            ],
            "type": "heatmap"
           }
          ],
          "heatmapgl": [
           {
            "colorbar": {
             "outlinewidth": 0,
             "ticks": ""
            },
            "colorscale": [
             [
              0,
              "#0d0887"
             ],
             [
              0.1111111111111111,
              "#46039f"
             ],
             [
              0.2222222222222222,
              "#7201a8"
             ],
             [
              0.3333333333333333,
              "#9c179e"
             ],
             [
              0.4444444444444444,
              "#bd3786"
             ],
             [
              0.5555555555555556,
              "#d8576b"
             ],
             [
              0.6666666666666666,
              "#ed7953"
             ],
             [
              0.7777777777777778,
              "#fb9f3a"
             ],
             [
              0.8888888888888888,
              "#fdca26"
             ],
             [
              1,
              "#f0f921"
             ]
            ],
            "type": "heatmapgl"
           }
          ],
          "histogram": [
           {
            "marker": {
             "pattern": {
              "fillmode": "overlay",
              "size": 10,
              "solidity": 0.2
             }
            },
            "type": "histogram"
           }
          ],
          "histogram2d": [
           {
            "colorbar": {
             "outlinewidth": 0,
             "ticks": ""
            },
            "colorscale": [
             [
              0,
              "#0d0887"
             ],
             [
              0.1111111111111111,
              "#46039f"
             ],
             [
              0.2222222222222222,
              "#7201a8"
             ],
             [
              0.3333333333333333,
              "#9c179e"
             ],
             [
              0.4444444444444444,
              "#bd3786"
             ],
             [
              0.5555555555555556,
              "#d8576b"
             ],
             [
              0.6666666666666666,
              "#ed7953"
             ],
             [
              0.7777777777777778,
              "#fb9f3a"
             ],
             [
              0.8888888888888888,
              "#fdca26"
             ],
             [
              1,
              "#f0f921"
             ]
            ],
            "type": "histogram2d"
           }
          ],
          "histogram2dcontour": [
           {
            "colorbar": {
             "outlinewidth": 0,
             "ticks": ""
            },
            "colorscale": [
             [
              0,
              "#0d0887"
             ],
             [
              0.1111111111111111,
              "#46039f"
             ],
             [
              0.2222222222222222,
              "#7201a8"
             ],
             [
              0.3333333333333333,
              "#9c179e"
             ],
             [
              0.4444444444444444,
              "#bd3786"
             ],
             [
              0.5555555555555556,
              "#d8576b"
             ],
             [
              0.6666666666666666,
              "#ed7953"
             ],
             [
              0.7777777777777778,
              "#fb9f3a"
             ],
             [
              0.8888888888888888,
              "#fdca26"
             ],
             [
              1,
              "#f0f921"
             ]
            ],
            "type": "histogram2dcontour"
           }
          ],
          "mesh3d": [
           {
            "colorbar": {
             "outlinewidth": 0,
             "ticks": ""
            },
            "type": "mesh3d"
           }
          ],
          "parcoords": [
           {
            "line": {
             "colorbar": {
              "outlinewidth": 0,
              "ticks": ""
             }
            },
            "type": "parcoords"
           }
          ],
          "pie": [
           {
            "automargin": true,
            "type": "pie"
           }
          ],
          "scatter": [
           {
            "fillpattern": {
             "fillmode": "overlay",
             "size": 10,
             "solidity": 0.2
            },
            "type": "scatter"
           }
          ],
          "scatter3d": [
           {
            "line": {
             "colorbar": {
              "outlinewidth": 0,
              "ticks": ""
             }
            },
            "marker": {
             "colorbar": {
              "outlinewidth": 0,
              "ticks": ""
             }
            },
            "type": "scatter3d"
           }
          ],
          "scattercarpet": [
           {
            "marker": {
             "colorbar": {
              "outlinewidth": 0,
              "ticks": ""
             }
            },
            "type": "scattercarpet"
           }
          ],
          "scattergeo": [
           {
            "marker": {
             "colorbar": {
              "outlinewidth": 0,
              "ticks": ""
             }
            },
            "type": "scattergeo"
           }
          ],
          "scattergl": [
           {
            "marker": {
             "colorbar": {
              "outlinewidth": 0,
              "ticks": ""
             }
            },
            "type": "scattergl"
           }
          ],
          "scattermapbox": [
           {
            "marker": {
             "colorbar": {
              "outlinewidth": 0,
              "ticks": ""
             }
            },
            "type": "scattermapbox"
           }
          ],
          "scatterpolar": [
           {
            "marker": {
             "colorbar": {
              "outlinewidth": 0,
              "ticks": ""
             }
            },
            "type": "scatterpolar"
           }
          ],
          "scatterpolargl": [
           {
            "marker": {
             "colorbar": {
              "outlinewidth": 0,
              "ticks": ""
             }
            },
            "type": "scatterpolargl"
           }
          ],
          "scatterternary": [
           {
            "marker": {
             "colorbar": {
              "outlinewidth": 0,
              "ticks": ""
             }
            },
            "type": "scatterternary"
           }
          ],
          "surface": [
           {
            "colorbar": {
             "outlinewidth": 0,
             "ticks": ""
            },
            "colorscale": [
             [
              0,
              "#0d0887"
             ],
             [
              0.1111111111111111,
              "#46039f"
             ],
             [
              0.2222222222222222,
              "#7201a8"
             ],
             [
              0.3333333333333333,
              "#9c179e"
             ],
             [
              0.4444444444444444,
              "#bd3786"
             ],
             [
              0.5555555555555556,
              "#d8576b"
             ],
             [
              0.6666666666666666,
              "#ed7953"
             ],
             [
              0.7777777777777778,
              "#fb9f3a"
             ],
             [
              0.8888888888888888,
              "#fdca26"
             ],
             [
              1,
              "#f0f921"
             ]
            ],
            "type": "surface"
           }
          ],
          "table": [
           {
            "cells": {
             "fill": {
              "color": "#EBF0F8"
             },
             "line": {
              "color": "white"
             }
            },
            "header": {
             "fill": {
              "color": "#C8D4E3"
             },
             "line": {
              "color": "white"
             }
            },
            "type": "table"
           }
          ]
         },
         "layout": {
          "annotationdefaults": {
           "arrowcolor": "#2a3f5f",
           "arrowhead": 0,
           "arrowwidth": 1
          },
          "autotypenumbers": "strict",
          "coloraxis": {
           "colorbar": {
            "outlinewidth": 0,
            "ticks": ""
           }
          },
          "colorscale": {
           "diverging": [
            [
             0,
             "#8e0152"
            ],
            [
             0.1,
             "#c51b7d"
            ],
            [
             0.2,
             "#de77ae"
            ],
            [
             0.3,
             "#f1b6da"
            ],
            [
             0.4,
             "#fde0ef"
            ],
            [
             0.5,
             "#f7f7f7"
            ],
            [
             0.6,
             "#e6f5d0"
            ],
            [
             0.7,
             "#b8e186"
            ],
            [
             0.8,
             "#7fbc41"
            ],
            [
             0.9,
             "#4d9221"
            ],
            [
             1,
             "#276419"
            ]
           ],
           "sequential": [
            [
             0,
             "#0d0887"
            ],
            [
             0.1111111111111111,
             "#46039f"
            ],
            [
             0.2222222222222222,
             "#7201a8"
            ],
            [
             0.3333333333333333,
             "#9c179e"
            ],
            [
             0.4444444444444444,
             "#bd3786"
            ],
            [
             0.5555555555555556,
             "#d8576b"
            ],
            [
             0.6666666666666666,
             "#ed7953"
            ],
            [
             0.7777777777777778,
             "#fb9f3a"
            ],
            [
             0.8888888888888888,
             "#fdca26"
            ],
            [
             1,
             "#f0f921"
            ]
           ],
           "sequentialminus": [
            [
             0,
             "#0d0887"
            ],
            [
             0.1111111111111111,
             "#46039f"
            ],
            [
             0.2222222222222222,
             "#7201a8"
            ],
            [
             0.3333333333333333,
             "#9c179e"
            ],
            [
             0.4444444444444444,
             "#bd3786"
            ],
            [
             0.5555555555555556,
             "#d8576b"
            ],
            [
             0.6666666666666666,
             "#ed7953"
            ],
            [
             0.7777777777777778,
             "#fb9f3a"
            ],
            [
             0.8888888888888888,
             "#fdca26"
            ],
            [
             1,
             "#f0f921"
            ]
           ]
          },
          "colorway": [
           "#636efa",
           "#EF553B",
           "#00cc96",
           "#ab63fa",
           "#FFA15A",
           "#19d3f3",
           "#FF6692",
           "#B6E880",
           "#FF97FF",
           "#FECB52"
          ],
          "font": {
           "color": "#2a3f5f"
          },
          "geo": {
           "bgcolor": "white",
           "lakecolor": "white",
           "landcolor": "#E5ECF6",
           "showlakes": true,
           "showland": true,
           "subunitcolor": "white"
          },
          "hoverlabel": {
           "align": "left"
          },
          "hovermode": "closest",
          "mapbox": {
           "style": "light"
          },
          "paper_bgcolor": "white",
          "plot_bgcolor": "#E5ECF6",
          "polar": {
           "angularaxis": {
            "gridcolor": "white",
            "linecolor": "white",
            "ticks": ""
           },
           "bgcolor": "#E5ECF6",
           "radialaxis": {
            "gridcolor": "white",
            "linecolor": "white",
            "ticks": ""
           }
          },
          "scene": {
           "xaxis": {
            "backgroundcolor": "#E5ECF6",
            "gridcolor": "white",
            "gridwidth": 2,
            "linecolor": "white",
            "showbackground": true,
            "ticks": "",
            "zerolinecolor": "white"
           },
           "yaxis": {
            "backgroundcolor": "#E5ECF6",
            "gridcolor": "white",
            "gridwidth": 2,
            "linecolor": "white",
            "showbackground": true,
            "ticks": "",
            "zerolinecolor": "white"
           },
           "zaxis": {
            "backgroundcolor": "#E5ECF6",
            "gridcolor": "white",
            "gridwidth": 2,
            "linecolor": "white",
            "showbackground": true,
            "ticks": "",
            "zerolinecolor": "white"
           }
          },
          "shapedefaults": {
           "line": {
            "color": "#2a3f5f"
           }
          },
          "ternary": {
           "aaxis": {
            "gridcolor": "white",
            "linecolor": "white",
            "ticks": ""
           },
           "baxis": {
            "gridcolor": "white",
            "linecolor": "white",
            "ticks": ""
           },
           "bgcolor": "#E5ECF6",
           "caxis": {
            "gridcolor": "white",
            "linecolor": "white",
            "ticks": ""
           }
          },
          "title": {
           "x": 0.05
          },
          "xaxis": {
           "automargin": true,
           "gridcolor": "white",
           "linecolor": "white",
           "ticks": "",
           "title": {
            "standoff": 15
           },
           "zerolinecolor": "white",
           "zerolinewidth": 2
          },
          "yaxis": {
           "automargin": true,
           "gridcolor": "white",
           "linecolor": "white",
           "ticks": "",
           "title": {
            "standoff": 15
           },
           "zerolinecolor": "white",
           "zerolinewidth": 2
          }
         }
        },
        "width": 760
       }
      },
      "text/html": [
       "<div>                            <div id=\"882a65ff-8dcc-4886-8cf2-d584b748d44a\" class=\"plotly-graph-div\" style=\"height:620px; width:760px;\"></div>            <script type=\"text/javascript\">                require([\"plotly\"], function(Plotly) {                    window.PLOTLYENV=window.PLOTLYENV || {};                                    if (document.getElementById(\"882a65ff-8dcc-4886-8cf2-d584b748d44a\")) {                    Plotly.newPlot(                        \"882a65ff-8dcc-4886-8cf2-d584b748d44a\",                        [{\"fill\":\"toself\",\"line\":{\"color\":\"orange\",\"dash\":\"solid\"},\"mode\":\"lines+text\",\"name\":\"Base\",\"r\":[0.6842105263157895,0.7169811320754716,0.7500000000000001,0.6000000000000001,0.902439024390244,0.7772727272727273,0.9737991266375546,0.840466926070039,0.9216589861751152,1.0,0.7291666666666667,0.6896551724137931,0.7142857142857143,0.8,0.6842105263157895],\"text\":[\"65.0\",\"63.3\",\"50.0\",\"55.0\",\"50.3\",\"50.3\",\"55.8\",\"54.3\",\"50.0\",\"50.0\",\"50.0\",\"50.0\",\"50.0\",\"50.0\",\"65.0\"],\"textposition\":\"middle left\",\"theta\":[\"Existence\",\"Count\",\"Position\",\"Color\",\"Posters\",\"Celebrity\",\"Scene\",\"Landmark\",\"Artwork\",\"OCR\",\"Commonsense Reasoning\",\"Numerical Calculation\",\"Text Translation\",\"Code Reasoning\",\"Existence\"],\"type\":\"scatterpolar\"},{\"fill\":\"none\",\"line\":{\"color\":\"blue\",\"dash\":\"solid\"},\"mode\":\"lines+text\",\"name\":\"Ours\",\"r\":[1.0,1.0,1.0,1.0,1.0,1.0,1.0,1.0,1.0,1.0,1.0,1.0,1.0,1.0,1.0],\"text\":[\"95.0\",\"88.3\",\"66.7\",\"91.7\",\"55.8\",\"64.7\",\"57.2\",\"64.6\",\"54.2\",\"50.0\",\"68.6\",\"72.5\",\"70.0\",\"62.5\",\"95.0\"],\"textposition\":\"middle left\",\"theta\":[\"Existence\",\"Count\",\"Position\",\"Color\",\"Posters\",\"Celebrity\",\"Scene\",\"Landmark\",\"Artwork\",\"OCR\",\"Commonsense Reasoning\",\"Numerical Calculation\",\"Text Translation\",\"Code Reasoning\",\"Existence\"],\"type\":\"scatterpolar\"}],                        {\"template\":{\"data\":{\"histogram2dcontour\":[{\"type\":\"histogram2dcontour\",\"colorbar\":{\"outlinewidth\":0,\"ticks\":\"\"},\"colorscale\":[[0.0,\"#0d0887\"],[0.1111111111111111,\"#46039f\"],[0.2222222222222222,\"#7201a8\"],[0.3333333333333333,\"#9c179e\"],[0.4444444444444444,\"#bd3786\"],[0.5555555555555556,\"#d8576b\"],[0.6666666666666666,\"#ed7953\"],[0.7777777777777778,\"#fb9f3a\"],[0.8888888888888888,\"#fdca26\"],[1.0,\"#f0f921\"]]}],\"choropleth\":[{\"type\":\"choropleth\",\"colorbar\":{\"outlinewidth\":0,\"ticks\":\"\"}}],\"histogram2d\":[{\"type\":\"histogram2d\",\"colorbar\":{\"outlinewidth\":0,\"ticks\":\"\"},\"colorscale\":[[0.0,\"#0d0887\"],[0.1111111111111111,\"#46039f\"],[0.2222222222222222,\"#7201a8\"],[0.3333333333333333,\"#9c179e\"],[0.4444444444444444,\"#bd3786\"],[0.5555555555555556,\"#d8576b\"],[0.6666666666666666,\"#ed7953\"],[0.7777777777777778,\"#fb9f3a\"],[0.8888888888888888,\"#fdca26\"],[1.0,\"#f0f921\"]]}],\"heatmap\":[{\"type\":\"heatmap\",\"colorbar\":{\"outlinewidth\":0,\"ticks\":\"\"},\"colorscale\":[[0.0,\"#0d0887\"],[0.1111111111111111,\"#46039f\"],[0.2222222222222222,\"#7201a8\"],[0.3333333333333333,\"#9c179e\"],[0.4444444444444444,\"#bd3786\"],[0.5555555555555556,\"#d8576b\"],[0.6666666666666666,\"#ed7953\"],[0.7777777777777778,\"#fb9f3a\"],[0.8888888888888888,\"#fdca26\"],[1.0,\"#f0f921\"]]}],\"heatmapgl\":[{\"type\":\"heatmapgl\",\"colorbar\":{\"outlinewidth\":0,\"ticks\":\"\"},\"colorscale\":[[0.0,\"#0d0887\"],[0.1111111111111111,\"#46039f\"],[0.2222222222222222,\"#7201a8\"],[0.3333333333333333,\"#9c179e\"],[0.4444444444444444,\"#bd3786\"],[0.5555555555555556,\"#d8576b\"],[0.6666666666666666,\"#ed7953\"],[0.7777777777777778,\"#fb9f3a\"],[0.8888888888888888,\"#fdca26\"],[1.0,\"#f0f921\"]]}],\"contourcarpet\":[{\"type\":\"contourcarpet\",\"colorbar\":{\"outlinewidth\":0,\"ticks\":\"\"}}],\"contour\":[{\"type\":\"contour\",\"colorbar\":{\"outlinewidth\":0,\"ticks\":\"\"},\"colorscale\":[[0.0,\"#0d0887\"],[0.1111111111111111,\"#46039f\"],[0.2222222222222222,\"#7201a8\"],[0.3333333333333333,\"#9c179e\"],[0.4444444444444444,\"#bd3786\"],[0.5555555555555556,\"#d8576b\"],[0.6666666666666666,\"#ed7953\"],[0.7777777777777778,\"#fb9f3a\"],[0.8888888888888888,\"#fdca26\"],[1.0,\"#f0f921\"]]}],\"surface\":[{\"type\":\"surface\",\"colorbar\":{\"outlinewidth\":0,\"ticks\":\"\"},\"colorscale\":[[0.0,\"#0d0887\"],[0.1111111111111111,\"#46039f\"],[0.2222222222222222,\"#7201a8\"],[0.3333333333333333,\"#9c179e\"],[0.4444444444444444,\"#bd3786\"],[0.5555555555555556,\"#d8576b\"],[0.6666666666666666,\"#ed7953\"],[0.7777777777777778,\"#fb9f3a\"],[0.8888888888888888,\"#fdca26\"],[1.0,\"#f0f921\"]]}],\"mesh3d\":[{\"type\":\"mesh3d\",\"colorbar\":{\"outlinewidth\":0,\"ticks\":\"\"}}],\"scatter\":[{\"fillpattern\":{\"fillmode\":\"overlay\",\"size\":10,\"solidity\":0.2},\"type\":\"scatter\"}],\"parcoords\":[{\"type\":\"parcoords\",\"line\":{\"colorbar\":{\"outlinewidth\":0,\"ticks\":\"\"}}}],\"scatterpolargl\":[{\"type\":\"scatterpolargl\",\"marker\":{\"colorbar\":{\"outlinewidth\":0,\"ticks\":\"\"}}}],\"bar\":[{\"error_x\":{\"color\":\"#2a3f5f\"},\"error_y\":{\"color\":\"#2a3f5f\"},\"marker\":{\"line\":{\"color\":\"#E5ECF6\",\"width\":0.5},\"pattern\":{\"fillmode\":\"overlay\",\"size\":10,\"solidity\":0.2}},\"type\":\"bar\"}],\"scattergeo\":[{\"type\":\"scattergeo\",\"marker\":{\"colorbar\":{\"outlinewidth\":0,\"ticks\":\"\"}}}],\"scatterpolar\":[{\"type\":\"scatterpolar\",\"marker\":{\"colorbar\":{\"outlinewidth\":0,\"ticks\":\"\"}}}],\"histogram\":[{\"marker\":{\"pattern\":{\"fillmode\":\"overlay\",\"size\":10,\"solidity\":0.2}},\"type\":\"histogram\"}],\"scattergl\":[{\"type\":\"scattergl\",\"marker\":{\"colorbar\":{\"outlinewidth\":0,\"ticks\":\"\"}}}],\"scatter3d\":[{\"type\":\"scatter3d\",\"line\":{\"colorbar\":{\"outlinewidth\":0,\"ticks\":\"\"}},\"marker\":{\"colorbar\":{\"outlinewidth\":0,\"ticks\":\"\"}}}],\"scattermapbox\":[{\"type\":\"scattermapbox\",\"marker\":{\"colorbar\":{\"outlinewidth\":0,\"ticks\":\"\"}}}],\"scatterternary\":[{\"type\":\"scatterternary\",\"marker\":{\"colorbar\":{\"outlinewidth\":0,\"ticks\":\"\"}}}],\"scattercarpet\":[{\"type\":\"scattercarpet\",\"marker\":{\"colorbar\":{\"outlinewidth\":0,\"ticks\":\"\"}}}],\"carpet\":[{\"aaxis\":{\"endlinecolor\":\"#2a3f5f\",\"gridcolor\":\"white\",\"linecolor\":\"white\",\"minorgridcolor\":\"white\",\"startlinecolor\":\"#2a3f5f\"},\"baxis\":{\"endlinecolor\":\"#2a3f5f\",\"gridcolor\":\"white\",\"linecolor\":\"white\",\"minorgridcolor\":\"white\",\"startlinecolor\":\"#2a3f5f\"},\"type\":\"carpet\"}],\"table\":[{\"cells\":{\"fill\":{\"color\":\"#EBF0F8\"},\"line\":{\"color\":\"white\"}},\"header\":{\"fill\":{\"color\":\"#C8D4E3\"},\"line\":{\"color\":\"white\"}},\"type\":\"table\"}],\"barpolar\":[{\"marker\":{\"line\":{\"color\":\"#E5ECF6\",\"width\":0.5},\"pattern\":{\"fillmode\":\"overlay\",\"size\":10,\"solidity\":0.2}},\"type\":\"barpolar\"}],\"pie\":[{\"automargin\":true,\"type\":\"pie\"}]},\"layout\":{\"autotypenumbers\":\"strict\",\"colorway\":[\"#636efa\",\"#EF553B\",\"#00cc96\",\"#ab63fa\",\"#FFA15A\",\"#19d3f3\",\"#FF6692\",\"#B6E880\",\"#FF97FF\",\"#FECB52\"],\"font\":{\"color\":\"#2a3f5f\"},\"hovermode\":\"closest\",\"hoverlabel\":{\"align\":\"left\"},\"paper_bgcolor\":\"white\",\"plot_bgcolor\":\"#E5ECF6\",\"polar\":{\"bgcolor\":\"#E5ECF6\",\"angularaxis\":{\"gridcolor\":\"white\",\"linecolor\":\"white\",\"ticks\":\"\"},\"radialaxis\":{\"gridcolor\":\"white\",\"linecolor\":\"white\",\"ticks\":\"\"}},\"ternary\":{\"bgcolor\":\"#E5ECF6\",\"aaxis\":{\"gridcolor\":\"white\",\"linecolor\":\"white\",\"ticks\":\"\"},\"baxis\":{\"gridcolor\":\"white\",\"linecolor\":\"white\",\"ticks\":\"\"},\"caxis\":{\"gridcolor\":\"white\",\"linecolor\":\"white\",\"ticks\":\"\"}},\"coloraxis\":{\"colorbar\":{\"outlinewidth\":0,\"ticks\":\"\"}},\"colorscale\":{\"sequential\":[[0.0,\"#0d0887\"],[0.1111111111111111,\"#46039f\"],[0.2222222222222222,\"#7201a8\"],[0.3333333333333333,\"#9c179e\"],[0.4444444444444444,\"#bd3786\"],[0.5555555555555556,\"#d8576b\"],[0.6666666666666666,\"#ed7953\"],[0.7777777777777778,\"#fb9f3a\"],[0.8888888888888888,\"#fdca26\"],[1.0,\"#f0f921\"]],\"sequentialminus\":[[0.0,\"#0d0887\"],[0.1111111111111111,\"#46039f\"],[0.2222222222222222,\"#7201a8\"],[0.3333333333333333,\"#9c179e\"],[0.4444444444444444,\"#bd3786\"],[0.5555555555555556,\"#d8576b\"],[0.6666666666666666,\"#ed7953\"],[0.7777777777777778,\"#fb9f3a\"],[0.8888888888888888,\"#fdca26\"],[1.0,\"#f0f921\"]],\"diverging\":[[0,\"#8e0152\"],[0.1,\"#c51b7d\"],[0.2,\"#de77ae\"],[0.3,\"#f1b6da\"],[0.4,\"#fde0ef\"],[0.5,\"#f7f7f7\"],[0.6,\"#e6f5d0\"],[0.7,\"#b8e186\"],[0.8,\"#7fbc41\"],[0.9,\"#4d9221\"],[1,\"#276419\"]]},\"xaxis\":{\"gridcolor\":\"white\",\"linecolor\":\"white\",\"ticks\":\"\",\"title\":{\"standoff\":15},\"zerolinecolor\":\"white\",\"automargin\":true,\"zerolinewidth\":2},\"yaxis\":{\"gridcolor\":\"white\",\"linecolor\":\"white\",\"ticks\":\"\",\"title\":{\"standoff\":15},\"zerolinecolor\":\"white\",\"automargin\":true,\"zerolinewidth\":2},\"scene\":{\"xaxis\":{\"backgroundcolor\":\"#E5ECF6\",\"gridcolor\":\"white\",\"linecolor\":\"white\",\"showbackground\":true,\"ticks\":\"\",\"zerolinecolor\":\"white\",\"gridwidth\":2},\"yaxis\":{\"backgroundcolor\":\"#E5ECF6\",\"gridcolor\":\"white\",\"linecolor\":\"white\",\"showbackground\":true,\"ticks\":\"\",\"zerolinecolor\":\"white\",\"gridwidth\":2},\"zaxis\":{\"backgroundcolor\":\"#E5ECF6\",\"gridcolor\":\"white\",\"linecolor\":\"white\",\"showbackground\":true,\"ticks\":\"\",\"zerolinecolor\":\"white\",\"gridwidth\":2}},\"shapedefaults\":{\"line\":{\"color\":\"#2a3f5f\"}},\"annotationdefaults\":{\"arrowcolor\":\"#2a3f5f\",\"arrowhead\":0,\"arrowwidth\":1},\"geo\":{\"bgcolor\":\"white\",\"landcolor\":\"#E5ECF6\",\"subunitcolor\":\"white\",\"showland\":true,\"showlakes\":true,\"lakecolor\":\"white\"},\"title\":{\"x\":0.05},\"mapbox\":{\"style\":\"light\"}}},\"polar\":{\"radialaxis\":{\"visible\":true,\"showgrid\":true,\"showticklabels\":false,\"range\":[0.5,1.05]},\"angularaxis\":{\"tickfont\":{\"size\":18},\"tick0\":\"auto\"}},\"legend\":{\"font\":{\"size\":20,\"color\":\"black\"},\"traceorder\":\"normal\",\"itemsizing\":\"trace\"},\"showlegend\":true,\"height\":620,\"width\":760},                        {\"responsive\": true}                    ).then(function(){\n",
       "                            \n",
       "var gd = document.getElementById('882a65ff-8dcc-4886-8cf2-d584b748d44a');\n",
       "var x = new MutationObserver(function (mutations, observer) {{\n",
       "        var display = window.getComputedStyle(gd).display;\n",
       "        if (!display || display === 'none') {{\n",
       "            console.log([gd, 'removed!']);\n",
       "            Plotly.purge(gd);\n",
       "            observer.disconnect();\n",
       "        }}\n",
       "}});\n",
       "\n",
       "// Listen for the removal of the full notebook cells\n",
       "var notebookContainer = gd.closest('#notebook-container');\n",
       "if (notebookContainer) {{\n",
       "    x.observe(notebookContainer, {childList: true});\n",
       "}}\n",
       "\n",
       "// Listen for the clearing of the current output cell\n",
       "var outputEl = gd.closest('.output');\n",
       "if (outputEl) {{\n",
       "    x.observe(outputEl, {childList: true});\n",
       "}}\n",
       "\n",
       "                        })                };                });            </script>        </div>"
      ]
     },
     "metadata": {},
     "output_type": "display_data"
    }
   ],
   "source": [
    "\n",
    "language = \"uk\"\n",
    "math_tasks_categories = ['Ambiguity', 'Duration', 'Frequency', 'Causality', 'Nli', 'Ordering', 'Relation', 'Storytelling', 'Ambiguity (Math)', 'Arithmetic (Math)', 'Duration (Math)', 'Frequency (Math)', 'Typical time']\n",
    "math_tasks_categories = [\"Existence\",\n",
    "        \"Count\",\n",
    "        \"Position\",\n",
    "        \"Color\",\n",
    "        \"Posters\",\n",
    "        \"Celebrity\",\n",
    "        \"Scene\",\n",
    "        \"Landmark\",\n",
    "        \"Artwork\",\n",
    "        \"OCR\",\"Commonsense Reasoning\",\n",
    "        \"Numerical Calculation\",\n",
    "        \"Text Translation\",\n",
    "        \"Code Reasoning\",\n",
    "        ]\n",
    "baseline_results_chart = get_data_by_lang(language, baseline_result_data_file)\n",
    "bleu_results_chart = get_data_by_lang(language, loss_t_1101_24k)\n",
    "trans_results_chart = get_data_by_lang(language,trans)\n",
    "mblip_results_chart = get_data_by_lang(language,mblip)\n",
    "\n",
    "baseline_results_list = [v for _,v in baseline_results_chart.items()]\n",
    "bleu_results_list = [v for _,v in bleu_results_chart.items()]\n",
    "trans_results_list = [v for _,v in trans_results_chart.items()]\n",
    "mblip_results_list = [v for _,v in mblip_results_chart.items()]\n",
    "\n",
    "fig = go.Figure()\n",
    "\n",
    "fig.add_trace(go.Scatterpolar(\n",
    "      mode='lines+text',\n",
    "      r=[i/j for i,j in zip(baseline_results_list+[baseline_results_list[0]],bleu_results_list+[bleu_results_list[0]])],\n",
    "      theta= math_tasks_categories + [math_tasks_categories[0]],\n",
    "      fill= 'toself',\n",
    "      name= 'Base',\n",
    "      line=dict(color='orange', dash='solid'),\n",
    "      text=[f\"{i:.1f}\" for i in baseline_results_list+[baseline_results_list[0]]],\n",
    "      textposition='middle left',\n",
    "))\n",
    "\n",
    "fig.add_trace(go.Scatterpolar(\n",
    "      mode='lines+text',\n",
    "      r=[i/j for i,j in zip(bleu_results_list+[bleu_results_list[0]],bleu_results_list+[bleu_results_list[0]])],\n",
    "      theta= math_tasks_categories + [math_tasks_categories[0]],\n",
    "      fill= 'none',\n",
    "      name= 'Ours',\n",
    "      line=dict(color='blue', dash='solid'),\n",
    "      text=[f\"{i:.1f}\" for i in bleu_results_list+[bleu_results_list[0]]],\n",
    "      textposition='middle left',\n",
    "))\n",
    "\n",
    "# fig.add_trace(go.Scatterpolar(\n",
    "#       mode='lines+text',\n",
    "#       r=[i/j for i,j in zip(trans_results_list+[trans_results_list[0]],bleu_results_list+[bleu_results_list[0]])],\n",
    "#       theta= math_tasks_categories + [math_tasks_categories[0]],\n",
    "#       fill= 'none',\n",
    "#       name= 'Trans',\n",
    "#       line=dict(color='pink', dash='solid'),\n",
    "#       text=[f\"{i:.1f}\" for i in trans_results_list+[trans_results_list[0]]],\n",
    "#       textposition='middle left',\n",
    "# ))\n",
    "\n",
    "# fig.add_trace(go.Scatterpolar(\n",
    "#       mode='lines+text',\n",
    "#       r=[i/j for i,j in zip(mblip_results_list+[mblip_results_list[0]],bleu_results_list+[bleu_results_list[0]])],\n",
    "#       theta= math_tasks_categories + [math_tasks_categories[0]],\n",
    "#       fill= 'none',\n",
    "#       name= 'MBLIP',\n",
    "#       line=dict(color='green', dash='solid'),\n",
    "#       text=[f\"{i:.1f}\" for i in trans_results_list+[trans_results_list[0]]],\n",
    "#       textposition='middle left',\n",
    "# ))\n",
    "\n",
    "\n",
    "\n",
    "fig.update_layout(\n",
    "    polar=dict(\n",
    "        radialaxis=dict(\n",
    "            visible=True, \n",
    "            showgrid=True,\n",
    "            showticklabels=False,\n",
    "            range=[0.5, 1.05]\n",
    "        ),\n",
    "        angularaxis=dict(\n",
    "            tick0='auto',\n",
    "            tickfont=dict(size=18)  # 设置分类标签的字体大小\n",
    "        )\n",
    "    ),\n",
    "    showlegend=True,\n",
    "    legend=dict(\n",
    "        # x=0.95,  # 调整图例的水平位置\n",
    "        # y=-0.15,  # 调整图例的垂直位置\n",
    "        # bgcolor='rgba(255, 255, 255, 0.6)',  # 设置图例的背景颜色及透明度\n",
    "        # bordercolor='rgba(0, 0, 0, 0.2)',  # 设置图例的边框颜色及透明度\n",
    "        # borderwidth=2,  # 设置图例的边框宽度\n",
    "        traceorder=\"normal\",  # 控制图例中图例项的顺序\n",
    "        font=dict(  # 设置图例文字的属性\n",
    "            # family=\"Times New Roman\",  # 设置字体\n",
    "            size=20,  # 设置文字大小\n",
    "            color=\"black\"  # 设置文字颜色\n",
    "        ),\n",
    "        itemsizing='trace'  # 设置图例项的大小为常量\n",
    "    ),\n",
    "    \n",
    "    height=620,  # 设置画布高度\n",
    "    width=760  # 设置画布宽度\n",
    ")\n",
    "\n",
    "\n",
    "fig.show()\n",
    "pio.write_image(fig, f\"res/radar_{language}.pdf\")\n"
   ]
  },
  {
   "cell_type": "code",
   "execution_count": 47,
   "metadata": {},
   "outputs": [
    {
     "data": {
      "application/vnd.plotly.v1+json": {
       "config": {
        "plotlyServerURL": "https://plot.ly"
       },
       "data": [
        {
         "fill": "none",
         "line": {
          "color": "orange",
          "dash": "dot"
         },
         "mode": "lines+text",
         "name": "LLama-13B",
         "r": [
          0.7608695652173914,
          0.9514066496163683,
          0.8895027624309392,
          0.9282051282051282,
          0.5747126436781609,
          0.5031446540880503,
          0.5641025641025641,
          0.8072289156626506,
          0.8046153846153846,
          0.9185520361990951,
          0.7647058823529411,
          0.8187134502923976,
          0.9162011173184358,
          0.7608695652173914
         ],
         "text": [
          "86.0",
          "77.4",
          "87.5",
          "95.5",
          "55.0",
          "44.0",
          "44.0",
          "71.0",
          "61.3",
          "63.9",
          "58.5",
          "81.0",
          "82.0"
         ],
         "textposition": "middle left",
         "theta": [
          "Ambiguity",
          "Duration",
          "Frequency",
          "Causality",
          "Nli",
          "Ordering",
          "Relation",
          "Storytelling",
          "Ambiguity (Math)",
          "Arithmetic (Math)",
          "Duration (Math)",
          "Frequency (Math)",
          "Typical time",
          "Ambiguity"
         ],
         "type": "scatterpolar"
        },
        {
         "fill": "none",
         "line": {
          "color": "mediumpurple",
          "dash": "solid"
         },
         "mode": "lines+text",
         "name": "Timo-13B",
         "r": [
          1,
          1,
          1,
          1,
          1,
          1,
          1,
          1,
          1,
          1,
          1,
          1,
          1,
          1
         ],
         "text": [
          "92.0",
          "78.2",
          "90.5",
          "97.5",
          "87.0",
          "79.5",
          "78.0",
          "83.0",
          "65.0",
          "66.3",
          "76.5",
          "85.5",
          "89.5"
         ],
         "textposition": "middle left",
         "theta": [
          "Ambiguity",
          "Duration",
          "Frequency",
          "Causality",
          "Nli",
          "Ordering",
          "Relation",
          "Storytelling",
          "Ambiguity (Math)",
          "Arithmetic (Math)",
          "Duration (Math)",
          "Frequency (Math)",
          "Typical time",
          "Ambiguity"
         ],
         "type": "scatterpolar"
        }
       ],
       "layout": {
        "height": 620,
        "legend": {
         "bgcolor": "rgba(255, 255, 255, 0.6)",
         "bordercolor": "rgba(0, 0, 0, 0.2)",
         "borderwidth": 2,
         "font": {
          "color": "black",
          "size": 18
         },
         "itemsizing": "trace",
         "traceorder": "normal",
         "x": 0.8,
         "y": -0.15
        },
        "polar": {
         "angularaxis": {
          "tick0": "auto",
          "tickfont": {
           "size": 18
          }
         },
         "radialaxis": {
          "range": [
           0.4,
           1.05
          ],
          "visible": false
         }
        },
        "showlegend": true,
        "template": {
         "data": {
          "bar": [
           {
            "error_x": {
             "color": "#2a3f5f"
            },
            "error_y": {
             "color": "#2a3f5f"
            },
            "marker": {
             "line": {
              "color": "#E5ECF6",
              "width": 0.5
             },
             "pattern": {
              "fillmode": "overlay",
              "size": 10,
              "solidity": 0.2
             }
            },
            "type": "bar"
           }
          ],
          "barpolar": [
           {
            "marker": {
             "line": {
              "color": "#E5ECF6",
              "width": 0.5
             },
             "pattern": {
              "fillmode": "overlay",
              "size": 10,
              "solidity": 0.2
             }
            },
            "type": "barpolar"
           }
          ],
          "carpet": [
           {
            "aaxis": {
             "endlinecolor": "#2a3f5f",
             "gridcolor": "white",
             "linecolor": "white",
             "minorgridcolor": "white",
             "startlinecolor": "#2a3f5f"
            },
            "baxis": {
             "endlinecolor": "#2a3f5f",
             "gridcolor": "white",
             "linecolor": "white",
             "minorgridcolor": "white",
             "startlinecolor": "#2a3f5f"
            },
            "type": "carpet"
           }
          ],
          "choropleth": [
           {
            "colorbar": {
             "outlinewidth": 0,
             "ticks": ""
            },
            "type": "choropleth"
           }
          ],
          "contour": [
           {
            "colorbar": {
             "outlinewidth": 0,
             "ticks": ""
            },
            "colorscale": [
             [
              0,
              "#0d0887"
             ],
             [
              0.1111111111111111,
              "#46039f"
             ],
             [
              0.2222222222222222,
              "#7201a8"
             ],
             [
              0.3333333333333333,
              "#9c179e"
             ],
             [
              0.4444444444444444,
              "#bd3786"
             ],
             [
              0.5555555555555556,
              "#d8576b"
             ],
             [
              0.6666666666666666,
              "#ed7953"
             ],
             [
              0.7777777777777778,
              "#fb9f3a"
             ],
             [
              0.8888888888888888,
              "#fdca26"
             ],
             [
              1,
              "#f0f921"
             ]
            ],
            "type": "contour"
           }
          ],
          "contourcarpet": [
           {
            "colorbar": {
             "outlinewidth": 0,
             "ticks": ""
            },
            "type": "contourcarpet"
           }
          ],
          "heatmap": [
           {
            "colorbar": {
             "outlinewidth": 0,
             "ticks": ""
            },
            "colorscale": [
             [
              0,
              "#0d0887"
             ],
             [
              0.1111111111111111,
              "#46039f"
             ],
             [
              0.2222222222222222,
              "#7201a8"
             ],
             [
              0.3333333333333333,
              "#9c179e"
             ],
             [
              0.4444444444444444,
              "#bd3786"
             ],
             [
              0.5555555555555556,
              "#d8576b"
             ],
             [
              0.6666666666666666,
              "#ed7953"
             ],
             [
              0.7777777777777778,
              "#fb9f3a"
             ],
             [
              0.8888888888888888,
              "#fdca26"
             ],
             [
              1,
              "#f0f921"
             ]
            ],
            "type": "heatmap"
           }
          ],
          "heatmapgl": [
           {
            "colorbar": {
             "outlinewidth": 0,
             "ticks": ""
            },
            "colorscale": [
             [
              0,
              "#0d0887"
             ],
             [
              0.1111111111111111,
              "#46039f"
             ],
             [
              0.2222222222222222,
              "#7201a8"
             ],
             [
              0.3333333333333333,
              "#9c179e"
             ],
             [
              0.4444444444444444,
              "#bd3786"
             ],
             [
              0.5555555555555556,
              "#d8576b"
             ],
             [
              0.6666666666666666,
              "#ed7953"
             ],
             [
              0.7777777777777778,
              "#fb9f3a"
             ],
             [
              0.8888888888888888,
              "#fdca26"
             ],
             [
              1,
              "#f0f921"
             ]
            ],
            "type": "heatmapgl"
           }
          ],
          "histogram": [
           {
            "marker": {
             "pattern": {
              "fillmode": "overlay",
              "size": 10,
              "solidity": 0.2
             }
            },
            "type": "histogram"
           }
          ],
          "histogram2d": [
           {
            "colorbar": {
             "outlinewidth": 0,
             "ticks": ""
            },
            "colorscale": [
             [
              0,
              "#0d0887"
             ],
             [
              0.1111111111111111,
              "#46039f"
             ],
             [
              0.2222222222222222,
              "#7201a8"
             ],
             [
              0.3333333333333333,
              "#9c179e"
             ],
             [
              0.4444444444444444,
              "#bd3786"
             ],
             [
              0.5555555555555556,
              "#d8576b"
             ],
             [
              0.6666666666666666,
              "#ed7953"
             ],
             [
              0.7777777777777778,
              "#fb9f3a"
             ],
             [
              0.8888888888888888,
              "#fdca26"
             ],
             [
              1,
              "#f0f921"
             ]
            ],
            "type": "histogram2d"
           }
          ],
          "histogram2dcontour": [
           {
            "colorbar": {
             "outlinewidth": 0,
             "ticks": ""
            },
            "colorscale": [
             [
              0,
              "#0d0887"
             ],
             [
              0.1111111111111111,
              "#46039f"
             ],
             [
              0.2222222222222222,
              "#7201a8"
             ],
             [
              0.3333333333333333,
              "#9c179e"
             ],
             [
              0.4444444444444444,
              "#bd3786"
             ],
             [
              0.5555555555555556,
              "#d8576b"
             ],
             [
              0.6666666666666666,
              "#ed7953"
             ],
             [
              0.7777777777777778,
              "#fb9f3a"
             ],
             [
              0.8888888888888888,
              "#fdca26"
             ],
             [
              1,
              "#f0f921"
             ]
            ],
            "type": "histogram2dcontour"
           }
          ],
          "mesh3d": [
           {
            "colorbar": {
             "outlinewidth": 0,
             "ticks": ""
            },
            "type": "mesh3d"
           }
          ],
          "parcoords": [
           {
            "line": {
             "colorbar": {
              "outlinewidth": 0,
              "ticks": ""
             }
            },
            "type": "parcoords"
           }
          ],
          "pie": [
           {
            "automargin": true,
            "type": "pie"
           }
          ],
          "scatter": [
           {
            "fillpattern": {
             "fillmode": "overlay",
             "size": 10,
             "solidity": 0.2
            },
            "type": "scatter"
           }
          ],
          "scatter3d": [
           {
            "line": {
             "colorbar": {
              "outlinewidth": 0,
              "ticks": ""
             }
            },
            "marker": {
             "colorbar": {
              "outlinewidth": 0,
              "ticks": ""
             }
            },
            "type": "scatter3d"
           }
          ],
          "scattercarpet": [
           {
            "marker": {
             "colorbar": {
              "outlinewidth": 0,
              "ticks": ""
             }
            },
            "type": "scattercarpet"
           }
          ],
          "scattergeo": [
           {
            "marker": {
             "colorbar": {
              "outlinewidth": 0,
              "ticks": ""
             }
            },
            "type": "scattergeo"
           }
          ],
          "scattergl": [
           {
            "marker": {
             "colorbar": {
              "outlinewidth": 0,
              "ticks": ""
             }
            },
            "type": "scattergl"
           }
          ],
          "scattermapbox": [
           {
            "marker": {
             "colorbar": {
              "outlinewidth": 0,
              "ticks": ""
             }
            },
            "type": "scattermapbox"
           }
          ],
          "scatterpolar": [
           {
            "marker": {
             "colorbar": {
              "outlinewidth": 0,
              "ticks": ""
             }
            },
            "type": "scatterpolar"
           }
          ],
          "scatterpolargl": [
           {
            "marker": {
             "colorbar": {
              "outlinewidth": 0,
              "ticks": ""
             }
            },
            "type": "scatterpolargl"
           }
          ],
          "scatterternary": [
           {
            "marker": {
             "colorbar": {
              "outlinewidth": 0,
              "ticks": ""
             }
            },
            "type": "scatterternary"
           }
          ],
          "surface": [
           {
            "colorbar": {
             "outlinewidth": 0,
             "ticks": ""
            },
            "colorscale": [
             [
              0,
              "#0d0887"
             ],
             [
              0.1111111111111111,
              "#46039f"
             ],
             [
              0.2222222222222222,
              "#7201a8"
             ],
             [
              0.3333333333333333,
              "#9c179e"
             ],
             [
              0.4444444444444444,
              "#bd3786"
             ],
             [
              0.5555555555555556,
              "#d8576b"
             ],
             [
              0.6666666666666666,
              "#ed7953"
             ],
             [
              0.7777777777777778,
              "#fb9f3a"
             ],
             [
              0.8888888888888888,
              "#fdca26"
             ],
             [
              1,
              "#f0f921"
             ]
            ],
            "type": "surface"
           }
          ],
          "table": [
           {
            "cells": {
             "fill": {
              "color": "#EBF0F8"
             },
             "line": {
              "color": "white"
             }
            },
            "header": {
             "fill": {
              "color": "#C8D4E3"
             },
             "line": {
              "color": "white"
             }
            },
            "type": "table"
           }
          ]
         },
         "layout": {
          "annotationdefaults": {
           "arrowcolor": "#2a3f5f",
           "arrowhead": 0,
           "arrowwidth": 1
          },
          "autotypenumbers": "strict",
          "coloraxis": {
           "colorbar": {
            "outlinewidth": 0,
            "ticks": ""
           }
          },
          "colorscale": {
           "diverging": [
            [
             0,
             "#8e0152"
            ],
            [
             0.1,
             "#c51b7d"
            ],
            [
             0.2,
             "#de77ae"
            ],
            [
             0.3,
             "#f1b6da"
            ],
            [
             0.4,
             "#fde0ef"
            ],
            [
             0.5,
             "#f7f7f7"
            ],
            [
             0.6,
             "#e6f5d0"
            ],
            [
             0.7,
             "#b8e186"
            ],
            [
             0.8,
             "#7fbc41"
            ],
            [
             0.9,
             "#4d9221"
            ],
            [
             1,
             "#276419"
            ]
           ],
           "sequential": [
            [
             0,
             "#0d0887"
            ],
            [
             0.1111111111111111,
             "#46039f"
            ],
            [
             0.2222222222222222,
             "#7201a8"
            ],
            [
             0.3333333333333333,
             "#9c179e"
            ],
            [
             0.4444444444444444,
             "#bd3786"
            ],
            [
             0.5555555555555556,
             "#d8576b"
            ],
            [
             0.6666666666666666,
             "#ed7953"
            ],
            [
             0.7777777777777778,
             "#fb9f3a"
            ],
            [
             0.8888888888888888,
             "#fdca26"
            ],
            [
             1,
             "#f0f921"
            ]
           ],
           "sequentialminus": [
            [
             0,
             "#0d0887"
            ],
            [
             0.1111111111111111,
             "#46039f"
            ],
            [
             0.2222222222222222,
             "#7201a8"
            ],
            [
             0.3333333333333333,
             "#9c179e"
            ],
            [
             0.4444444444444444,
             "#bd3786"
            ],
            [
             0.5555555555555556,
             "#d8576b"
            ],
            [
             0.6666666666666666,
             "#ed7953"
            ],
            [
             0.7777777777777778,
             "#fb9f3a"
            ],
            [
             0.8888888888888888,
             "#fdca26"
            ],
            [
             1,
             "#f0f921"
            ]
           ]
          },
          "colorway": [
           "#636efa",
           "#EF553B",
           "#00cc96",
           "#ab63fa",
           "#FFA15A",
           "#19d3f3",
           "#FF6692",
           "#B6E880",
           "#FF97FF",
           "#FECB52"
          ],
          "font": {
           "color": "#2a3f5f"
          },
          "geo": {
           "bgcolor": "white",
           "lakecolor": "white",
           "landcolor": "#E5ECF6",
           "showlakes": true,
           "showland": true,
           "subunitcolor": "white"
          },
          "hoverlabel": {
           "align": "left"
          },
          "hovermode": "closest",
          "mapbox": {
           "style": "light"
          },
          "paper_bgcolor": "white",
          "plot_bgcolor": "#E5ECF6",
          "polar": {
           "angularaxis": {
            "gridcolor": "white",
            "linecolor": "white",
            "ticks": ""
           },
           "bgcolor": "#E5ECF6",
           "radialaxis": {
            "gridcolor": "white",
            "linecolor": "white",
            "ticks": ""
           }
          },
          "scene": {
           "xaxis": {
            "backgroundcolor": "#E5ECF6",
            "gridcolor": "white",
            "gridwidth": 2,
            "linecolor": "white",
            "showbackground": true,
            "ticks": "",
            "zerolinecolor": "white"
           },
           "yaxis": {
            "backgroundcolor": "#E5ECF6",
            "gridcolor": "white",
            "gridwidth": 2,
            "linecolor": "white",
            "showbackground": true,
            "ticks": "",
            "zerolinecolor": "white"
           },
           "zaxis": {
            "backgroundcolor": "#E5ECF6",
            "gridcolor": "white",
            "gridwidth": 2,
            "linecolor": "white",
            "showbackground": true,
            "ticks": "",
            "zerolinecolor": "white"
           }
          },
          "shapedefaults": {
           "line": {
            "color": "#2a3f5f"
           }
          },
          "ternary": {
           "aaxis": {
            "gridcolor": "white",
            "linecolor": "white",
            "ticks": ""
           },
           "baxis": {
            "gridcolor": "white",
            "linecolor": "white",
            "ticks": ""
           },
           "bgcolor": "#E5ECF6",
           "caxis": {
            "gridcolor": "white",
            "linecolor": "white",
            "ticks": ""
           }
          },
          "title": {
           "x": 0.05
          },
          "xaxis": {
           "automargin": true,
           "gridcolor": "white",
           "linecolor": "white",
           "ticks": "",
           "title": {
            "standoff": 15
           },
           "zerolinecolor": "white",
           "zerolinewidth": 2
          },
          "yaxis": {
           "automargin": true,
           "gridcolor": "white",
           "linecolor": "white",
           "ticks": "",
           "title": {
            "standoff": 15
           },
           "zerolinecolor": "white",
           "zerolinewidth": 2
          }
         }
        },
        "width": 760
       }
      },
      "text/html": [
       "<div>                            <div id=\"521e5f9b-d22e-4514-81eb-684407396953\" class=\"plotly-graph-div\" style=\"height:620px; width:760px;\"></div>            <script type=\"text/javascript\">                require([\"plotly\"], function(Plotly) {                    window.PLOTLYENV=window.PLOTLYENV || {};                                    if (document.getElementById(\"521e5f9b-d22e-4514-81eb-684407396953\")) {                    Plotly.newPlot(                        \"521e5f9b-d22e-4514-81eb-684407396953\",                        [{\"fill\":\"none\",\"line\":{\"color\":\"orange\",\"dash\":\"dot\"},\"mode\":\"lines+text\",\"name\":\"LLama-13B\",\"r\":[0.7608695652173914,0.9514066496163683,0.8895027624309392,0.9282051282051282,0.5747126436781609,0.5031446540880503,0.5641025641025641,0.8072289156626506,0.8046153846153846,0.9185520361990951,0.7647058823529411,0.8187134502923976,0.9162011173184358,0.7608695652173914],\"text\":[\"86.0\",\"77.4\",\"87.5\",\"95.5\",\"55.0\",\"44.0\",\"44.0\",\"71.0\",\"61.3\",\"63.9\",\"58.5\",\"81.0\",\"82.0\"],\"textposition\":\"middle left\",\"theta\":[\"Ambiguity\",\"Duration\",\"Frequency\",\"Causality\",\"Nli\",\"Ordering\",\"Relation\",\"Storytelling\",\"Ambiguity (Math)\",\"Arithmetic (Math)\",\"Duration (Math)\",\"Frequency (Math)\",\"Typical time\",\"Ambiguity\"],\"type\":\"scatterpolar\"},{\"fill\":\"none\",\"line\":{\"color\":\"mediumpurple\",\"dash\":\"solid\"},\"mode\":\"lines+text\",\"name\":\"Timo-13B\",\"r\":[1.0,1.0,1.0,1.0,1.0,1.0,1.0,1.0,1.0,1.0,1.0,1.0,1.0,1.0],\"text\":[\"92.0\",\"78.2\",\"90.5\",\"97.5\",\"87.0\",\"79.5\",\"78.0\",\"83.0\",\"65.0\",\"66.3\",\"76.5\",\"85.5\",\"89.5\"],\"textposition\":\"middle left\",\"theta\":[\"Ambiguity\",\"Duration\",\"Frequency\",\"Causality\",\"Nli\",\"Ordering\",\"Relation\",\"Storytelling\",\"Ambiguity (Math)\",\"Arithmetic (Math)\",\"Duration (Math)\",\"Frequency (Math)\",\"Typical time\",\"Ambiguity\"],\"type\":\"scatterpolar\"}],                        {\"template\":{\"data\":{\"histogram2dcontour\":[{\"type\":\"histogram2dcontour\",\"colorbar\":{\"outlinewidth\":0,\"ticks\":\"\"},\"colorscale\":[[0.0,\"#0d0887\"],[0.1111111111111111,\"#46039f\"],[0.2222222222222222,\"#7201a8\"],[0.3333333333333333,\"#9c179e\"],[0.4444444444444444,\"#bd3786\"],[0.5555555555555556,\"#d8576b\"],[0.6666666666666666,\"#ed7953\"],[0.7777777777777778,\"#fb9f3a\"],[0.8888888888888888,\"#fdca26\"],[1.0,\"#f0f921\"]]}],\"choropleth\":[{\"type\":\"choropleth\",\"colorbar\":{\"outlinewidth\":0,\"ticks\":\"\"}}],\"histogram2d\":[{\"type\":\"histogram2d\",\"colorbar\":{\"outlinewidth\":0,\"ticks\":\"\"},\"colorscale\":[[0.0,\"#0d0887\"],[0.1111111111111111,\"#46039f\"],[0.2222222222222222,\"#7201a8\"],[0.3333333333333333,\"#9c179e\"],[0.4444444444444444,\"#bd3786\"],[0.5555555555555556,\"#d8576b\"],[0.6666666666666666,\"#ed7953\"],[0.7777777777777778,\"#fb9f3a\"],[0.8888888888888888,\"#fdca26\"],[1.0,\"#f0f921\"]]}],\"heatmap\":[{\"type\":\"heatmap\",\"colorbar\":{\"outlinewidth\":0,\"ticks\":\"\"},\"colorscale\":[[0.0,\"#0d0887\"],[0.1111111111111111,\"#46039f\"],[0.2222222222222222,\"#7201a8\"],[0.3333333333333333,\"#9c179e\"],[0.4444444444444444,\"#bd3786\"],[0.5555555555555556,\"#d8576b\"],[0.6666666666666666,\"#ed7953\"],[0.7777777777777778,\"#fb9f3a\"],[0.8888888888888888,\"#fdca26\"],[1.0,\"#f0f921\"]]}],\"heatmapgl\":[{\"type\":\"heatmapgl\",\"colorbar\":{\"outlinewidth\":0,\"ticks\":\"\"},\"colorscale\":[[0.0,\"#0d0887\"],[0.1111111111111111,\"#46039f\"],[0.2222222222222222,\"#7201a8\"],[0.3333333333333333,\"#9c179e\"],[0.4444444444444444,\"#bd3786\"],[0.5555555555555556,\"#d8576b\"],[0.6666666666666666,\"#ed7953\"],[0.7777777777777778,\"#fb9f3a\"],[0.8888888888888888,\"#fdca26\"],[1.0,\"#f0f921\"]]}],\"contourcarpet\":[{\"type\":\"contourcarpet\",\"colorbar\":{\"outlinewidth\":0,\"ticks\":\"\"}}],\"contour\":[{\"type\":\"contour\",\"colorbar\":{\"outlinewidth\":0,\"ticks\":\"\"},\"colorscale\":[[0.0,\"#0d0887\"],[0.1111111111111111,\"#46039f\"],[0.2222222222222222,\"#7201a8\"],[0.3333333333333333,\"#9c179e\"],[0.4444444444444444,\"#bd3786\"],[0.5555555555555556,\"#d8576b\"],[0.6666666666666666,\"#ed7953\"],[0.7777777777777778,\"#fb9f3a\"],[0.8888888888888888,\"#fdca26\"],[1.0,\"#f0f921\"]]}],\"surface\":[{\"type\":\"surface\",\"colorbar\":{\"outlinewidth\":0,\"ticks\":\"\"},\"colorscale\":[[0.0,\"#0d0887\"],[0.1111111111111111,\"#46039f\"],[0.2222222222222222,\"#7201a8\"],[0.3333333333333333,\"#9c179e\"],[0.4444444444444444,\"#bd3786\"],[0.5555555555555556,\"#d8576b\"],[0.6666666666666666,\"#ed7953\"],[0.7777777777777778,\"#fb9f3a\"],[0.8888888888888888,\"#fdca26\"],[1.0,\"#f0f921\"]]}],\"mesh3d\":[{\"type\":\"mesh3d\",\"colorbar\":{\"outlinewidth\":0,\"ticks\":\"\"}}],\"scatter\":[{\"fillpattern\":{\"fillmode\":\"overlay\",\"size\":10,\"solidity\":0.2},\"type\":\"scatter\"}],\"parcoords\":[{\"type\":\"parcoords\",\"line\":{\"colorbar\":{\"outlinewidth\":0,\"ticks\":\"\"}}}],\"scatterpolargl\":[{\"type\":\"scatterpolargl\",\"marker\":{\"colorbar\":{\"outlinewidth\":0,\"ticks\":\"\"}}}],\"bar\":[{\"error_x\":{\"color\":\"#2a3f5f\"},\"error_y\":{\"color\":\"#2a3f5f\"},\"marker\":{\"line\":{\"color\":\"#E5ECF6\",\"width\":0.5},\"pattern\":{\"fillmode\":\"overlay\",\"size\":10,\"solidity\":0.2}},\"type\":\"bar\"}],\"scattergeo\":[{\"type\":\"scattergeo\",\"marker\":{\"colorbar\":{\"outlinewidth\":0,\"ticks\":\"\"}}}],\"scatterpolar\":[{\"type\":\"scatterpolar\",\"marker\":{\"colorbar\":{\"outlinewidth\":0,\"ticks\":\"\"}}}],\"histogram\":[{\"marker\":{\"pattern\":{\"fillmode\":\"overlay\",\"size\":10,\"solidity\":0.2}},\"type\":\"histogram\"}],\"scattergl\":[{\"type\":\"scattergl\",\"marker\":{\"colorbar\":{\"outlinewidth\":0,\"ticks\":\"\"}}}],\"scatter3d\":[{\"type\":\"scatter3d\",\"line\":{\"colorbar\":{\"outlinewidth\":0,\"ticks\":\"\"}},\"marker\":{\"colorbar\":{\"outlinewidth\":0,\"ticks\":\"\"}}}],\"scattermapbox\":[{\"type\":\"scattermapbox\",\"marker\":{\"colorbar\":{\"outlinewidth\":0,\"ticks\":\"\"}}}],\"scatterternary\":[{\"type\":\"scatterternary\",\"marker\":{\"colorbar\":{\"outlinewidth\":0,\"ticks\":\"\"}}}],\"scattercarpet\":[{\"type\":\"scattercarpet\",\"marker\":{\"colorbar\":{\"outlinewidth\":0,\"ticks\":\"\"}}}],\"carpet\":[{\"aaxis\":{\"endlinecolor\":\"#2a3f5f\",\"gridcolor\":\"white\",\"linecolor\":\"white\",\"minorgridcolor\":\"white\",\"startlinecolor\":\"#2a3f5f\"},\"baxis\":{\"endlinecolor\":\"#2a3f5f\",\"gridcolor\":\"white\",\"linecolor\":\"white\",\"minorgridcolor\":\"white\",\"startlinecolor\":\"#2a3f5f\"},\"type\":\"carpet\"}],\"table\":[{\"cells\":{\"fill\":{\"color\":\"#EBF0F8\"},\"line\":{\"color\":\"white\"}},\"header\":{\"fill\":{\"color\":\"#C8D4E3\"},\"line\":{\"color\":\"white\"}},\"type\":\"table\"}],\"barpolar\":[{\"marker\":{\"line\":{\"color\":\"#E5ECF6\",\"width\":0.5},\"pattern\":{\"fillmode\":\"overlay\",\"size\":10,\"solidity\":0.2}},\"type\":\"barpolar\"}],\"pie\":[{\"automargin\":true,\"type\":\"pie\"}]},\"layout\":{\"autotypenumbers\":\"strict\",\"colorway\":[\"#636efa\",\"#EF553B\",\"#00cc96\",\"#ab63fa\",\"#FFA15A\",\"#19d3f3\",\"#FF6692\",\"#B6E880\",\"#FF97FF\",\"#FECB52\"],\"font\":{\"color\":\"#2a3f5f\"},\"hovermode\":\"closest\",\"hoverlabel\":{\"align\":\"left\"},\"paper_bgcolor\":\"white\",\"plot_bgcolor\":\"#E5ECF6\",\"polar\":{\"bgcolor\":\"#E5ECF6\",\"angularaxis\":{\"gridcolor\":\"white\",\"linecolor\":\"white\",\"ticks\":\"\"},\"radialaxis\":{\"gridcolor\":\"white\",\"linecolor\":\"white\",\"ticks\":\"\"}},\"ternary\":{\"bgcolor\":\"#E5ECF6\",\"aaxis\":{\"gridcolor\":\"white\",\"linecolor\":\"white\",\"ticks\":\"\"},\"baxis\":{\"gridcolor\":\"white\",\"linecolor\":\"white\",\"ticks\":\"\"},\"caxis\":{\"gridcolor\":\"white\",\"linecolor\":\"white\",\"ticks\":\"\"}},\"coloraxis\":{\"colorbar\":{\"outlinewidth\":0,\"ticks\":\"\"}},\"colorscale\":{\"sequential\":[[0.0,\"#0d0887\"],[0.1111111111111111,\"#46039f\"],[0.2222222222222222,\"#7201a8\"],[0.3333333333333333,\"#9c179e\"],[0.4444444444444444,\"#bd3786\"],[0.5555555555555556,\"#d8576b\"],[0.6666666666666666,\"#ed7953\"],[0.7777777777777778,\"#fb9f3a\"],[0.8888888888888888,\"#fdca26\"],[1.0,\"#f0f921\"]],\"sequentialminus\":[[0.0,\"#0d0887\"],[0.1111111111111111,\"#46039f\"],[0.2222222222222222,\"#7201a8\"],[0.3333333333333333,\"#9c179e\"],[0.4444444444444444,\"#bd3786\"],[0.5555555555555556,\"#d8576b\"],[0.6666666666666666,\"#ed7953\"],[0.7777777777777778,\"#fb9f3a\"],[0.8888888888888888,\"#fdca26\"],[1.0,\"#f0f921\"]],\"diverging\":[[0,\"#8e0152\"],[0.1,\"#c51b7d\"],[0.2,\"#de77ae\"],[0.3,\"#f1b6da\"],[0.4,\"#fde0ef\"],[0.5,\"#f7f7f7\"],[0.6,\"#e6f5d0\"],[0.7,\"#b8e186\"],[0.8,\"#7fbc41\"],[0.9,\"#4d9221\"],[1,\"#276419\"]]},\"xaxis\":{\"gridcolor\":\"white\",\"linecolor\":\"white\",\"ticks\":\"\",\"title\":{\"standoff\":15},\"zerolinecolor\":\"white\",\"automargin\":true,\"zerolinewidth\":2},\"yaxis\":{\"gridcolor\":\"white\",\"linecolor\":\"white\",\"ticks\":\"\",\"title\":{\"standoff\":15},\"zerolinecolor\":\"white\",\"automargin\":true,\"zerolinewidth\":2},\"scene\":{\"xaxis\":{\"backgroundcolor\":\"#E5ECF6\",\"gridcolor\":\"white\",\"linecolor\":\"white\",\"showbackground\":true,\"ticks\":\"\",\"zerolinecolor\":\"white\",\"gridwidth\":2},\"yaxis\":{\"backgroundcolor\":\"#E5ECF6\",\"gridcolor\":\"white\",\"linecolor\":\"white\",\"showbackground\":true,\"ticks\":\"\",\"zerolinecolor\":\"white\",\"gridwidth\":2},\"zaxis\":{\"backgroundcolor\":\"#E5ECF6\",\"gridcolor\":\"white\",\"linecolor\":\"white\",\"showbackground\":true,\"ticks\":\"\",\"zerolinecolor\":\"white\",\"gridwidth\":2}},\"shapedefaults\":{\"line\":{\"color\":\"#2a3f5f\"}},\"annotationdefaults\":{\"arrowcolor\":\"#2a3f5f\",\"arrowhead\":0,\"arrowwidth\":1},\"geo\":{\"bgcolor\":\"white\",\"landcolor\":\"#E5ECF6\",\"subunitcolor\":\"white\",\"showland\":true,\"showlakes\":true,\"lakecolor\":\"white\"},\"title\":{\"x\":0.05},\"mapbox\":{\"style\":\"light\"}}},\"polar\":{\"radialaxis\":{\"visible\":false,\"range\":[0.4,1.05]},\"angularaxis\":{\"tickfont\":{\"size\":18},\"tick0\":\"auto\"}},\"legend\":{\"font\":{\"size\":18,\"color\":\"black\"},\"x\":0.8,\"y\":-0.15,\"bgcolor\":\"rgba(255, 255, 255, 0.6)\",\"bordercolor\":\"rgba(0, 0, 0, 0.2)\",\"borderwidth\":2,\"traceorder\":\"normal\",\"itemsizing\":\"trace\"},\"showlegend\":true,\"height\":620,\"width\":760},                        {\"responsive\": true}                    ).then(function(){\n",
       "                            \n",
       "var gd = document.getElementById('521e5f9b-d22e-4514-81eb-684407396953');\n",
       "var x = new MutationObserver(function (mutations, observer) {{\n",
       "        var display = window.getComputedStyle(gd).display;\n",
       "        if (!display || display === 'none') {{\n",
       "            console.log([gd, 'removed!']);\n",
       "            Plotly.purge(gd);\n",
       "            observer.disconnect();\n",
       "        }}\n",
       "}});\n",
       "\n",
       "// Listen for the removal of the full notebook cells\n",
       "var notebookContainer = gd.closest('#notebook-container');\n",
       "if (notebookContainer) {{\n",
       "    x.observe(notebookContainer, {childList: true});\n",
       "}}\n",
       "\n",
       "// Listen for the clearing of the current output cell\n",
       "var outputEl = gd.closest('.output');\n",
       "if (outputEl) {{\n",
       "    x.observe(outputEl, {childList: true});\n",
       "}}\n",
       "\n",
       "                        })                };                });            </script>        </div>"
      ]
     },
     "metadata": {},
     "output_type": "display_data"
    }
   ],
   "source": [
    "\n",
    "\n",
    "math_tasks_categories = ['Ambiguity', 'Duration', 'Frequency', 'Causality', 'Nli', 'Ordering', 'Relation', 'Storytelling', 'Ambiguity (Math)', 'Arithmetic (Math)', 'Duration (Math)', 'Frequency (Math)', 'Typical time']\n",
    "\n",
    "llama_data = [70.0, 74.4, 80.5, 90.5, 50.0, 40.0, 44.0, 67.0, 52.3, 60.9, 58.5, 70.0, 82.0]\n",
    "llama_data_text = [86.0, 77.4, 87.5, 95.5, 55.0, 44.0, 44.0, 71.0, 61.3, 63.9, 58.5, 81.0, 82.0]\n",
    "mathllama_data = [80.0, 62.4, 70.5, 97.5, 56.0, 45.0, 52.0, 75.0, 60.3, 69.0, 72.0, 80.5, 74.0]\n",
    "mathllama_data_text = [88.0, 74.4, 84.5, 97.5, 56.0, 45.0, 52.0, 75.0, 64.3, 69.0, 72.0, 84.5, 78.0]\n",
    "timo_data = [92.0, 78.2, 90.5, 97.5, 87.0, 79.5, 78.0, 83.0, 65.0, 66.3, 76.5, 85.5, 89.5]\n",
    "timo_data_text = [92.0, 78.2, 90.5, 97.5, 87.0, 79.5, 78.0, 83.0, 65.0, 66.3, 76.5, 85.5, 89.5]\n",
    "\n",
    "fig = go.Figure()\n",
    "\n",
    "fig.add_trace(go.Scatterpolar(\n",
    "      mode='lines+text',\n",
    "      r=[i/j for i,j in zip(llama_data + [llama_data[0]], timo_data + [timo_data[0]])],\n",
    "      theta= math_tasks_categories + [math_tasks_categories[0]],\n",
    "      fill= 'none',\n",
    "      name= 'LLama-13B',\n",
    "      line=dict(color='orange', dash='dot'),\n",
    "      text=llama_data_text,\n",
    "      textposition='middle left',\n",
    "))\n",
    "\n",
    "# fig.add_trace(go.Scatterpolar(\n",
    "#       mode='lines+text',\n",
    "#       r=[i/j for i,j in zip(mathllama_data + [mathllama_data[0]], timo_data + [timo_data[0]])],\n",
    "#       theta= math_tasks_categories + [math_tasks_categories[0]],\n",
    "#       fill= 'none',\n",
    "#       name= 'MathLLama-13B',\n",
    "#       line=dict(color='skyblue', dash='dot'),\n",
    "#       text=mathllama_data_text,\n",
    "#       textposition='middle left',\n",
    "# ))\n",
    "\n",
    "fig.add_trace(go.Scatterpolar(\n",
    "      mode='lines+text',\n",
    "      r=[i/j for i,j in zip(timo_data + [timo_data[0]], timo_data + [timo_data[0]])],\n",
    "      theta= math_tasks_categories + [math_tasks_categories[0]],\n",
    "      fill= 'none',\n",
    "      name= 'Timo-13B',\n",
    "      line=dict(color='mediumpurple', dash='solid'),\n",
    "      text=timo_data_text,\n",
    "      textposition='middle left',\n",
    "))\n",
    "\n",
    "fig.update_layout(\n",
    "    polar=dict(\n",
    "        radialaxis=dict(\n",
    "            visible=False,\n",
    "            range=[0.4, 1.05]\n",
    "        ),\n",
    "        angularaxis=dict(\n",
    "            tick0='auto',\n",
    "            tickfont=dict(size=18)  # 设置分类标签的字体大小\n",
    "        )\n",
    "    ),\n",
    "    showlegend=True,\n",
    "    legend=dict(\n",
    "        x=0.8,  # 调整图例的水平位置\n",
    "        y=-0.15,  # 调整图例的垂直位置\n",
    "        bgcolor='rgba(255, 255, 255, 0.6)',  # 设置图例的背景颜色及透明度\n",
    "        bordercolor='rgba(0, 0, 0, 0.2)',  # 设置图例的边框颜色及透明度\n",
    "        borderwidth=2,  # 设置图例的边框宽度\n",
    "        traceorder=\"normal\",  # 控制图例中图例项的顺序\n",
    "        font=dict(  # 设置图例文字的属性\n",
    "            # family=\"Times New Roman\",  # 设置字体\n",
    "            size=18,  # 设置文字大小\n",
    "            color=\"black\"  # 设置文字颜色\n",
    "        ),\n",
    "        itemsizing='trace'  # 设置图例项的大小为常量\n",
    "    ),\n",
    "    height=620,  # 设置画布高度\n",
    "    width=760  # 设置画布宽度\n",
    ")\n",
    "\n",
    "\n",
    "fig.show()\n"
   ]
  },
  {
   "cell_type": "code",
   "execution_count": 9,
   "metadata": {},
   "outputs": [],
   "source": [
    "fig.write_image(\"llama&mathllama&timo.pdf\")"
   ]
  },
  {
   "cell_type": "code",
   "execution_count": 13,
   "metadata": {},
   "outputs": [
    {
     "data": {
      "application/vnd.plotly.v1+json": {
       "config": {
        "plotlyServerURL": "https://plot.ly"
       },
       "data": [
        {
         "fill": "none",
         "line": {
          "color": "orange",
          "dash": "dot"
         },
         "mode": "lines+text",
         "name": "LLaMA",
         "r": [
          0.8601694915254237,
          0.75234521575985,
          0.5810276679841897,
          0.6694078947368421,
          0.7949526813880126,
          0.662269129287599,
          0.8007662835249043,
          0.8601694915254237
         ],
         "text": [
          "46.6",
          "49.1",
          "14.7",
          "58.7",
          "25.2",
          "74.2",
          "70.7"
         ],
         "textposition": "middle left",
         "theta": [
          "MMLU",
          "ARC",
          "GSM8K",
          "HellaSwag",
          "TruthfulQA",
          "WinoGranade",
          "Temporal",
          "MMLU"
         ],
         "type": "scatterpolar"
        },
        {
         "fill": "none",
         "line": {
          "color": "skyblue",
          "dash": "dot"
         },
         "mode": "lines+text",
         "name": "MathLLaMA",
         "r": [
          0.6186440677966101,
          0.8874296435272045,
          0.9288537549407114,
          0.7615131578947368,
          0.8990536277602524,
          0.7031662269129287,
          0.8799489144316731,
          0.6186440677966101
         ],
         "text": [
          "46.2",
          "50.3",
          "24.5",
          "59.3",
          "28.5",
          "74.3",
          "72.9"
         ],
         "textposition": "middle left",
         "theta": [
          "MMLU",
          "ARC",
          "GSM8K",
          "HellaSwag",
          "TruthfulQA",
          "WinoGranade",
          "Temporal",
          "MMLU"
         ],
         "type": "scatterpolar"
        },
        {
         "fill": "none",
         "line": {
          "color": "limegreen",
          "dash": "dot"
         },
         "mode": "lines+text",
         "name": "Timo-SFT",
         "r": [
          0.6927966101694916,
          0.7954971857410882,
          0.849802371541502,
          0.8634868421052632,
          0.8990536277602524,
          0.662269129287599,
          0.7650063856960408,
          0.6927966101694916
         ],
         "text": [
          "46.3",
          "49.4",
          "21.5",
          "59.5",
          "28.5",
          "74.2",
          "69.9"
         ],
         "textposition": "middle left",
         "theta": [
          "MMLU",
          "ARC",
          "GSM8K",
          "HellaSwag",
          "TruthfulQA",
          "WinoGranade",
          "Temporal",
          "MMLU"
         ],
         "type": "scatterpolar"
        },
        {
         "fill": "none",
         "line": {
          "color": "mediumpurple",
          "dash": "solid"
         },
         "mode": "lines+text",
         "name": "Timo",
         "r": [
          1,
          1,
          1,
          1,
          1,
          1,
          1,
          1
         ],
         "text": [
          "47.2",
          "53.3",
          "25.3",
          "60.8",
          "31.7",
          "75.8",
          "78.3"
         ],
         "textposition": "middle left",
         "theta": [
          "MMLU",
          "ARC",
          "GSM8K",
          "HellaSwag",
          "TruthfulQA",
          "WinoGranade",
          "Temporal",
          "MMLU"
         ],
         "type": "scatterpolar"
        }
       ],
       "layout": {
        "height": 620,
        "legend": {
         "bgcolor": "rgba(255, 255, 255, 0.6)",
         "bordercolor": "rgba(0, 0, 0, 0.2)",
         "borderwidth": 2,
         "font": {
          "color": "black",
          "size": 18
         },
         "itemsizing": "trace",
         "traceorder": "normal",
         "x": 0.88,
         "y": -0.1
        },
        "polar": {
         "angularaxis": {
          "tick0": "auto",
          "tickfont": {
           "size": 18
          }
         },
         "radialaxis": {
          "range": [
           0.4,
           1.05
          ],
          "visible": false
         }
        },
        "showlegend": true,
        "template": {
         "data": {
          "bar": [
           {
            "error_x": {
             "color": "#2a3f5f"
            },
            "error_y": {
             "color": "#2a3f5f"
            },
            "marker": {
             "line": {
              "color": "#E5ECF6",
              "width": 0.5
             },
             "pattern": {
              "fillmode": "overlay",
              "size": 10,
              "solidity": 0.2
             }
            },
            "type": "bar"
           }
          ],
          "barpolar": [
           {
            "marker": {
             "line": {
              "color": "#E5ECF6",
              "width": 0.5
             },
             "pattern": {
              "fillmode": "overlay",
              "size": 10,
              "solidity": 0.2
             }
            },
            "type": "barpolar"
           }
          ],
          "carpet": [
           {
            "aaxis": {
             "endlinecolor": "#2a3f5f",
             "gridcolor": "white",
             "linecolor": "white",
             "minorgridcolor": "white",
             "startlinecolor": "#2a3f5f"
            },
            "baxis": {
             "endlinecolor": "#2a3f5f",
             "gridcolor": "white",
             "linecolor": "white",
             "minorgridcolor": "white",
             "startlinecolor": "#2a3f5f"
            },
            "type": "carpet"
           }
          ],
          "choropleth": [
           {
            "colorbar": {
             "outlinewidth": 0,
             "ticks": ""
            },
            "type": "choropleth"
           }
          ],
          "contour": [
           {
            "colorbar": {
             "outlinewidth": 0,
             "ticks": ""
            },
            "colorscale": [
             [
              0,
              "#0d0887"
             ],
             [
              0.1111111111111111,
              "#46039f"
             ],
             [
              0.2222222222222222,
              "#7201a8"
             ],
             [
              0.3333333333333333,
              "#9c179e"
             ],
             [
              0.4444444444444444,
              "#bd3786"
             ],
             [
              0.5555555555555556,
              "#d8576b"
             ],
             [
              0.6666666666666666,
              "#ed7953"
             ],
             [
              0.7777777777777778,
              "#fb9f3a"
             ],
             [
              0.8888888888888888,
              "#fdca26"
             ],
             [
              1,
              "#f0f921"
             ]
            ],
            "type": "contour"
           }
          ],
          "contourcarpet": [
           {
            "colorbar": {
             "outlinewidth": 0,
             "ticks": ""
            },
            "type": "contourcarpet"
           }
          ],
          "heatmap": [
           {
            "colorbar": {
             "outlinewidth": 0,
             "ticks": ""
            },
            "colorscale": [
             [
              0,
              "#0d0887"
             ],
             [
              0.1111111111111111,
              "#46039f"
             ],
             [
              0.2222222222222222,
              "#7201a8"
             ],
             [
              0.3333333333333333,
              "#9c179e"
             ],
             [
              0.4444444444444444,
              "#bd3786"
             ],
             [
              0.5555555555555556,
              "#d8576b"
             ],
             [
              0.6666666666666666,
              "#ed7953"
             ],
             [
              0.7777777777777778,
              "#fb9f3a"
             ],
             [
              0.8888888888888888,
              "#fdca26"
             ],
             [
              1,
              "#f0f921"
             ]
            ],
            "type": "heatmap"
           }
          ],
          "heatmapgl": [
           {
            "colorbar": {
             "outlinewidth": 0,
             "ticks": ""
            },
            "colorscale": [
             [
              0,
              "#0d0887"
             ],
             [
              0.1111111111111111,
              "#46039f"
             ],
             [
              0.2222222222222222,
              "#7201a8"
             ],
             [
              0.3333333333333333,
              "#9c179e"
             ],
             [
              0.4444444444444444,
              "#bd3786"
             ],
             [
              0.5555555555555556,
              "#d8576b"
             ],
             [
              0.6666666666666666,
              "#ed7953"
             ],
             [
              0.7777777777777778,
              "#fb9f3a"
             ],
             [
              0.8888888888888888,
              "#fdca26"
             ],
             [
              1,
              "#f0f921"
             ]
            ],
            "type": "heatmapgl"
           }
          ],
          "histogram": [
           {
            "marker": {
             "pattern": {
              "fillmode": "overlay",
              "size": 10,
              "solidity": 0.2
             }
            },
            "type": "histogram"
           }
          ],
          "histogram2d": [
           {
            "colorbar": {
             "outlinewidth": 0,
             "ticks": ""
            },
            "colorscale": [
             [
              0,
              "#0d0887"
             ],
             [
              0.1111111111111111,
              "#46039f"
             ],
             [
              0.2222222222222222,
              "#7201a8"
             ],
             [
              0.3333333333333333,
              "#9c179e"
             ],
             [
              0.4444444444444444,
              "#bd3786"
             ],
             [
              0.5555555555555556,
              "#d8576b"
             ],
             [
              0.6666666666666666,
              "#ed7953"
             ],
             [
              0.7777777777777778,
              "#fb9f3a"
             ],
             [
              0.8888888888888888,
              "#fdca26"
             ],
             [
              1,
              "#f0f921"
             ]
            ],
            "type": "histogram2d"
           }
          ],
          "histogram2dcontour": [
           {
            "colorbar": {
             "outlinewidth": 0,
             "ticks": ""
            },
            "colorscale": [
             [
              0,
              "#0d0887"
             ],
             [
              0.1111111111111111,
              "#46039f"
             ],
             [
              0.2222222222222222,
              "#7201a8"
             ],
             [
              0.3333333333333333,
              "#9c179e"
             ],
             [
              0.4444444444444444,
              "#bd3786"
             ],
             [
              0.5555555555555556,
              "#d8576b"
             ],
             [
              0.6666666666666666,
              "#ed7953"
             ],
             [
              0.7777777777777778,
              "#fb9f3a"
             ],
             [
              0.8888888888888888,
              "#fdca26"
             ],
             [
              1,
              "#f0f921"
             ]
            ],
            "type": "histogram2dcontour"
           }
          ],
          "mesh3d": [
           {
            "colorbar": {
             "outlinewidth": 0,
             "ticks": ""
            },
            "type": "mesh3d"
           }
          ],
          "parcoords": [
           {
            "line": {
             "colorbar": {
              "outlinewidth": 0,
              "ticks": ""
             }
            },
            "type": "parcoords"
           }
          ],
          "pie": [
           {
            "automargin": true,
            "type": "pie"
           }
          ],
          "scatter": [
           {
            "fillpattern": {
             "fillmode": "overlay",
             "size": 10,
             "solidity": 0.2
            },
            "type": "scatter"
           }
          ],
          "scatter3d": [
           {
            "line": {
             "colorbar": {
              "outlinewidth": 0,
              "ticks": ""
             }
            },
            "marker": {
             "colorbar": {
              "outlinewidth": 0,
              "ticks": ""
             }
            },
            "type": "scatter3d"
           }
          ],
          "scattercarpet": [
           {
            "marker": {
             "colorbar": {
              "outlinewidth": 0,
              "ticks": ""
             }
            },
            "type": "scattercarpet"
           }
          ],
          "scattergeo": [
           {
            "marker": {
             "colorbar": {
              "outlinewidth": 0,
              "ticks": ""
             }
            },
            "type": "scattergeo"
           }
          ],
          "scattergl": [
           {
            "marker": {
             "colorbar": {
              "outlinewidth": 0,
              "ticks": ""
             }
            },
            "type": "scattergl"
           }
          ],
          "scattermapbox": [
           {
            "marker": {
             "colorbar": {
              "outlinewidth": 0,
              "ticks": ""
             }
            },
            "type": "scattermapbox"
           }
          ],
          "scatterpolar": [
           {
            "marker": {
             "colorbar": {
              "outlinewidth": 0,
              "ticks": ""
             }
            },
            "type": "scatterpolar"
           }
          ],
          "scatterpolargl": [
           {
            "marker": {
             "colorbar": {
              "outlinewidth": 0,
              "ticks": ""
             }
            },
            "type": "scatterpolargl"
           }
          ],
          "scatterternary": [
           {
            "marker": {
             "colorbar": {
              "outlinewidth": 0,
              "ticks": ""
             }
            },
            "type": "scatterternary"
           }
          ],
          "surface": [
           {
            "colorbar": {
             "outlinewidth": 0,
             "ticks": ""
            },
            "colorscale": [
             [
              0,
              "#0d0887"
             ],
             [
              0.1111111111111111,
              "#46039f"
             ],
             [
              0.2222222222222222,
              "#7201a8"
             ],
             [
              0.3333333333333333,
              "#9c179e"
             ],
             [
              0.4444444444444444,
              "#bd3786"
             ],
             [
              0.5555555555555556,
              "#d8576b"
             ],
             [
              0.6666666666666666,
              "#ed7953"
             ],
             [
              0.7777777777777778,
              "#fb9f3a"
             ],
             [
              0.8888888888888888,
              "#fdca26"
             ],
             [
              1,
              "#f0f921"
             ]
            ],
            "type": "surface"
           }
          ],
          "table": [
           {
            "cells": {
             "fill": {
              "color": "#EBF0F8"
             },
             "line": {
              "color": "white"
             }
            },
            "header": {
             "fill": {
              "color": "#C8D4E3"
             },
             "line": {
              "color": "white"
             }
            },
            "type": "table"
           }
          ]
         },
         "layout": {
          "annotationdefaults": {
           "arrowcolor": "#2a3f5f",
           "arrowhead": 0,
           "arrowwidth": 1
          },
          "autotypenumbers": "strict",
          "coloraxis": {
           "colorbar": {
            "outlinewidth": 0,
            "ticks": ""
           }
          },
          "colorscale": {
           "diverging": [
            [
             0,
             "#8e0152"
            ],
            [
             0.1,
             "#c51b7d"
            ],
            [
             0.2,
             "#de77ae"
            ],
            [
             0.3,
             "#f1b6da"
            ],
            [
             0.4,
             "#fde0ef"
            ],
            [
             0.5,
             "#f7f7f7"
            ],
            [
             0.6,
             "#e6f5d0"
            ],
            [
             0.7,
             "#b8e186"
            ],
            [
             0.8,
             "#7fbc41"
            ],
            [
             0.9,
             "#4d9221"
            ],
            [
             1,
             "#276419"
            ]
           ],
           "sequential": [
            [
             0,
             "#0d0887"
            ],
            [
             0.1111111111111111,
             "#46039f"
            ],
            [
             0.2222222222222222,
             "#7201a8"
            ],
            [
             0.3333333333333333,
             "#9c179e"
            ],
            [
             0.4444444444444444,
             "#bd3786"
            ],
            [
             0.5555555555555556,
             "#d8576b"
            ],
            [
             0.6666666666666666,
             "#ed7953"
            ],
            [
             0.7777777777777778,
             "#fb9f3a"
            ],
            [
             0.8888888888888888,
             "#fdca26"
            ],
            [
             1,
             "#f0f921"
            ]
           ],
           "sequentialminus": [
            [
             0,
             "#0d0887"
            ],
            [
             0.1111111111111111,
             "#46039f"
            ],
            [
             0.2222222222222222,
             "#7201a8"
            ],
            [
             0.3333333333333333,
             "#9c179e"
            ],
            [
             0.4444444444444444,
             "#bd3786"
            ],
            [
             0.5555555555555556,
             "#d8576b"
            ],
            [
             0.6666666666666666,
             "#ed7953"
            ],
            [
             0.7777777777777778,
             "#fb9f3a"
            ],
            [
             0.8888888888888888,
             "#fdca26"
            ],
            [
             1,
             "#f0f921"
            ]
           ]
          },
          "colorway": [
           "#636efa",
           "#EF553B",
           "#00cc96",
           "#ab63fa",
           "#FFA15A",
           "#19d3f3",
           "#FF6692",
           "#B6E880",
           "#FF97FF",
           "#FECB52"
          ],
          "font": {
           "color": "#2a3f5f"
          },
          "geo": {
           "bgcolor": "white",
           "lakecolor": "white",
           "landcolor": "#E5ECF6",
           "showlakes": true,
           "showland": true,
           "subunitcolor": "white"
          },
          "hoverlabel": {
           "align": "left"
          },
          "hovermode": "closest",
          "mapbox": {
           "style": "light"
          },
          "paper_bgcolor": "white",
          "plot_bgcolor": "#E5ECF6",
          "polar": {
           "angularaxis": {
            "gridcolor": "white",
            "linecolor": "white",
            "ticks": ""
           },
           "bgcolor": "#E5ECF6",
           "radialaxis": {
            "gridcolor": "white",
            "linecolor": "white",
            "ticks": ""
           }
          },
          "scene": {
           "xaxis": {
            "backgroundcolor": "#E5ECF6",
            "gridcolor": "white",
            "gridwidth": 2,
            "linecolor": "white",
            "showbackground": true,
            "ticks": "",
            "zerolinecolor": "white"
           },
           "yaxis": {
            "backgroundcolor": "#E5ECF6",
            "gridcolor": "white",
            "gridwidth": 2,
            "linecolor": "white",
            "showbackground": true,
            "ticks": "",
            "zerolinecolor": "white"
           },
           "zaxis": {
            "backgroundcolor": "#E5ECF6",
            "gridcolor": "white",
            "gridwidth": 2,
            "linecolor": "white",
            "showbackground": true,
            "ticks": "",
            "zerolinecolor": "white"
           }
          },
          "shapedefaults": {
           "line": {
            "color": "#2a3f5f"
           }
          },
          "ternary": {
           "aaxis": {
            "gridcolor": "white",
            "linecolor": "white",
            "ticks": ""
           },
           "baxis": {
            "gridcolor": "white",
            "linecolor": "white",
            "ticks": ""
           },
           "bgcolor": "#E5ECF6",
           "caxis": {
            "gridcolor": "white",
            "linecolor": "white",
            "ticks": ""
           }
          },
          "title": {
           "x": 0.05
          },
          "xaxis": {
           "automargin": true,
           "gridcolor": "white",
           "linecolor": "white",
           "ticks": "",
           "title": {
            "standoff": 15
           },
           "zerolinecolor": "white",
           "zerolinewidth": 2
          },
          "yaxis": {
           "automargin": true,
           "gridcolor": "white",
           "linecolor": "white",
           "ticks": "",
           "title": {
            "standoff": 15
           },
           "zerolinecolor": "white",
           "zerolinewidth": 2
          }
         }
        },
        "width": 760
       }
      }
     },
     "metadata": {},
     "output_type": "display_data"
    }
   ],
   "source": [
    "import plotly.graph_objects as go\n",
    "\n",
    "tasks_categories = ['MMLU', 'ARC', 'GSM8K', 'HellaSwag', 'TruthfulQA', 'WinoGranade', 'Temporal']\n",
    "\n",
    "llama_data = [40.6, 40.1, 14.7, 40.7, 25.2, 50.2, 62.7]\n",
    "llama_data_text = [46.6, 49.1, 14.7, 58.7, 25.2, 74.2, 70.7]\n",
    "mathllama_data = [29.2, 47.3, 23.5, 46.3, 28.5, 53.3, 68.9]\n",
    "mathllama_data_text = [46.2, 50.3, 24.5, 59.3, 28.5, 74.3, 72.9]\n",
    "sft = [32.7, 42.4, 21.5, 52.5, 28.5, 50.2, 59.9]\n",
    "sft_text = [46.3, 49.4, 21.5, 59.5, 28.5, 74.2, 69.9]\n",
    "timo = [47.2, 53.3, 25.3, 60.8, 31.7, 75.8, 78.3]\n",
    "timo_text = [47.2, 53.3, 25.3, 60.8, 31.7, 75.8, 78.3]\n",
    "\n",
    "fig = go.Figure()\n",
    "\n",
    "fig.add_trace(go.Scatterpolar(\n",
    "      mode='lines+text',\n",
    "      r=[i/j for i,j in zip(llama_data + [llama_data[0]], timo + [timo[0]])],\n",
    "      theta= tasks_categories + [tasks_categories[0]],\n",
    "      fill= 'none',\n",
    "      name= 'LLaMA',\n",
    "      line=dict(color='orange', dash='dot'),\n",
    "      text=llama_data_text,\n",
    "      textposition='middle left',\n",
    "))\n",
    "\n",
    "fig.add_trace(go.Scatterpolar(\n",
    "      mode='lines+text',\n",
    "      r= [i/j for i,j in zip(mathllama_data+[mathllama_data[0]], timo + [timo[0]])],\n",
    "      theta= tasks_categories + [tasks_categories[0]],\n",
    "      fill= 'none',\n",
    "      name= 'MathLLaMA',\n",
    "      line=dict(color='skyblue', dash='dot'),\n",
    "      text=mathllama_data_text,\n",
    "      textposition='middle left',\n",
    "))\n",
    "\n",
    "fig.add_trace(go.Scatterpolar(\n",
    "      mode='lines+text',\n",
    "      r= [i/j for i,j in zip(sft+[sft[0]], timo + [timo[0]])],\n",
    "      theta= tasks_categories + [tasks_categories[0]],\n",
    "      fill= 'none',\n",
    "      name= 'Timo-SFT',\n",
    "      line=dict(color='limegreen', dash='dot'),\n",
    "      text=sft_text,\n",
    "      textposition='middle left',\n",
    "))\n",
    "\n",
    "fig.add_trace(go.Scatterpolar(\n",
    "      mode='lines+text',\n",
    "      r= [i/j for i,j in zip(timo + [timo[0]], timo + [timo[0]])],\n",
    "      theta= tasks_categories + [tasks_categories[0]],\n",
    "      fill= 'none',\n",
    "      name= 'Timo',\n",
    "      line=dict(color='mediumpurple', dash='solid'),\n",
    "      text=timo_text,\n",
    "      textposition='middle left',\n",
    "))\n",
    "\n",
    "\n",
    "fig.update_layout(\n",
    "    polar=dict(\n",
    "        radialaxis=dict(\n",
    "            visible=False,\n",
    "            range=[0.4, 1.05]\n",
    "        ),\n",
    "        angularaxis=dict(\n",
    "            tick0='auto',\n",
    "            tickfont=dict(size=18)  # 设置分类标签的字体大小\n",
    "        )\n",
    "    ),\n",
    "    showlegend=True,\n",
    "    legend=dict(\n",
    "        x=0.88,  # 调整图例的水平位置\n",
    "        y=-0.1,  # 调整图例的垂直位置\n",
    "        bgcolor='rgba(255, 255, 255, 0.6)',  # 设置图例的背景颜色及透明度\n",
    "        bordercolor='rgba(0, 0, 0, 0.2)',  # 设置图例的边框颜色及透明度\n",
    "        borderwidth=2,  # 设置图例的边框宽度\n",
    "        traceorder=\"normal\",  # 控制图例中图例项的顺序\n",
    "        font=dict(  # 设置图例文字的属性\n",
    "            # family=\"Times New Roman\",  # 设置字体\n",
    "            size=18,  # 设置文字大小\n",
    "            color=\"black\"  # 设置文字颜色\n",
    "        ),\n",
    "        itemsizing='trace'  # 设置图例项的大小为常量\n",
    "    ),\n",
    "    height=620,  # 设置画布高度\n",
    "    width=760  # 设置画布宽度\n",
    ")\n",
    "\n",
    "\n",
    "fig.show()\n"
   ]
  },
  {
   "cell_type": "code",
   "execution_count": 16,
   "metadata": {},
   "outputs": [],
   "source": [
    "fig.write_image(\"performance_under_math_tasks.pdf\")"
   ]
  },
  {
   "cell_type": "code",
   "execution_count": null,
   "metadata": {},
   "outputs": [],
   "source": []
  }
 ],
 "metadata": {
  "kernelspec": {
   "display_name": "smoe",
   "language": "python",
   "name": "python3"
  },
  "language_info": {
   "codemirror_mode": {
    "name": "ipython",
    "version": 3
   },
   "file_extension": ".py",
   "mimetype": "text/x-python",
   "name": "python",
   "nbconvert_exporter": "python",
   "pygments_lexer": "ipython3",
   "version": "3.11.8"
  }
 },
 "nbformat": 4,
 "nbformat_minor": 2
}
