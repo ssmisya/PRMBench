{
 "cells": [
  {
   "cell_type": "code",
   "execution_count": 1,
   "metadata": {},
   "outputs": [
    {
     "name": "stderr",
     "output_type": "stream",
     "text": [
      "/mnt/petrelfs/songmingyang/anaconda3/envs/smoe/lib/python3.11/site-packages/tqdm/auto.py:21: TqdmWarning: IProgress not found. Please update jupyter and ipywidgets. See https://ipywidgets.readthedocs.io/en/stable/user_install.html\n",
      "  from .autonotebook import tqdm as notebook_tqdm\n"
     ]
    },
    {
     "data": {
      "text/plain": [
       "{'problem': 'How many vertical asymptotes does the graph of $y=\\\\frac{2}{x^2+x-6}$ have?',\n",
       " 'level': 'Level 3',\n",
       " 'type': 'Algebra',\n",
       " 'solution': 'The denominator of the rational function factors into $x^2+x-6=(x-2)(x+3)$. Since the numerator is always nonzero, there is a vertical asymptote whenever the denominator is $0$, which occurs for $x = 2$ and $x = -3$.  Therefore, the graph has $\\\\boxed{2}$ vertical asymptotes.'}"
      ]
     },
     "execution_count": 1,
     "metadata": {},
     "output_type": "execute_result"
    }
   ],
   "source": [
    "from datasets import load_dataset\n",
    "dataset_addr = \"/mnt/petrelfs/songmingyang/songmingyang/data/reasoning/gsm8k\"\n",
    "dataset_addr = \"/mnt/petrelfs/songmingyang/songmingyang/data/reasoning/MATH\"\n",
    "dataset = load_dataset(dataset_addr,\"default\")\n",
    "dataset[\"test\"][0]\n",
    "# dataset_addr = \"/mnt/petrelfs/songmingyang/songmingyang/data/reasoning/mmlu\""
   ]
  },
  {
   "cell_type": "code",
   "execution_count": null,
   "metadata": {},
   "outputs": [],
   "source": []
  },
  {
   "cell_type": "code",
   "execution_count": 8,
   "metadata": {},
   "outputs": [
    {
     "name": "stderr",
     "output_type": "stream",
     "text": [
      "Generating test split: 100%|██████████| 14042/14042 [00:00<00:00, 258847.80 examples/s]\n",
      "Generating validation split: 100%|██████████| 1531/1531 [00:00<00:00, 182190.30 examples/s]\n",
      "Generating dev split: 100%|██████████| 285/285 [00:00<00:00, 47110.30 examples/s]\n",
      "Generating auxiliary_train split: 100%|██████████| 99842/99842 [00:00<00:00, 160632.52 examples/s]\n"
     ]
    }
   ],
   "source": [
    "dataset = load_dataset(dataset_addr,\"all\")\n"
   ]
  },
  {
   "cell_type": "code",
   "execution_count": 9,
   "metadata": {},
   "outputs": [
    {
     "data": {
      "text/plain": [
       "DatasetDict({\n",
       "    test: Dataset({\n",
       "        features: ['question', 'subject', 'choices', 'answer'],\n",
       "        num_rows: 14042\n",
       "    })\n",
       "    validation: Dataset({\n",
       "        features: ['question', 'subject', 'choices', 'answer'],\n",
       "        num_rows: 1531\n",
       "    })\n",
       "    dev: Dataset({\n",
       "        features: ['question', 'subject', 'choices', 'answer'],\n",
       "        num_rows: 285\n",
       "    })\n",
       "    auxiliary_train: Dataset({\n",
       "        features: ['question', 'subject', 'choices', 'answer'],\n",
       "        num_rows: 99842\n",
       "    })\n",
       "})"
      ]
     },
     "execution_count": 9,
     "metadata": {},
     "output_type": "execute_result"
    }
   ],
   "source": [
    "dataset"
   ]
  },
  {
   "cell_type": "code",
   "execution_count": 12,
   "metadata": {},
   "outputs": [
    {
     "data": {
      "text/plain": [
       "{'question': 'If (G, .) is a group such that (ab)^-1 = a^-1b^-1, for all a, b in G, then G is a/an',\n",
       " 'subject': 'abstract_algebra',\n",
       " 'choices': ['commutative semi group',\n",
       "  'abelian group',\n",
       "  'non-abelian group',\n",
       "  'None of these'],\n",
       " 'answer': 1}"
      ]
     },
     "execution_count": 12,
     "metadata": {},
     "output_type": "execute_result"
    }
   ],
   "source": [
    "dataset[\"test\"][31]"
   ]
  },
  {
   "cell_type": "code",
   "execution_count": 13,
   "metadata": {},
   "outputs": [
    {
     "data": {
      "text/plain": [
       "(3, 0)"
      ]
     },
     "execution_count": 13,
     "metadata": {},
     "output_type": "execute_result"
    }
   ],
   "source": [
    "max_ans = 0\n",
    "min_ans = 100000\n",
    "for item in dataset[\"test\"]:\n",
    "    ans = item[\"answer\"]\n",
    "    if ans > max_ans:\n",
    "        max_ans = ans\n",
    "    if ans < min_ans:\n",
    "        min_ans = ans\n",
    "\n",
    "max_ans, min_ans"
   ]
  },
  {
   "cell_type": "code",
   "execution_count": 13,
   "metadata": {},
   "outputs": [
    {
     "data": {
      "text/plain": [
       "'70000'"
      ]
     },
     "execution_count": 13,
     "metadata": {},
     "output_type": "execute_result"
    }
   ],
   "source": [
    "ans_str = dataset[\"test\"][2][\"answer\"]\n",
    "answer = ans_str.split(\"####\")[1].strip()\n",
    "answer"
   ]
  },
  {
   "cell_type": "code",
   "execution_count": 28,
   "metadata": {},
   "outputs": [],
   "source": [
    "dataset_addr = \"/mnt/petrelfs/songmingyang/songmingyang/data/reasoning/MATH\"\n",
    "dataset = load_dataset(dataset_addr,)\n"
   ]
  },
  {
   "cell_type": "code",
   "execution_count": 18,
   "metadata": {},
   "outputs": [
    {
     "data": {
      "text/plain": [
       "{'problem': 'How many vertical asymptotes does the graph of $y=\\\\frac{2}{x^2+x-6}$ have?',\n",
       " 'level': 'Level 3',\n",
       " 'type': 'Algebra',\n",
       " 'solution': 'The denominator of the rational function factors into $x^2+x-6=(x-2)(x+3)$. Since the numerator is always nonzero, there is a vertical asymptote whenever the denominator is $0$, which occurs for $x = 2$ and $x = -3$.  Therefore, the graph has $\\\\boxed{2}$ vertical asymptotes.'}"
      ]
     },
     "execution_count": 18,
     "metadata": {},
     "output_type": "execute_result"
    }
   ],
   "source": [
    "dataset[\"test\"][0]"
   ]
  },
  {
   "cell_type": "code",
   "execution_count": 31,
   "metadata": {},
   "outputs": [],
   "source": [
    "dataset_addr = \"/mnt/petrelfs/songmingyang/songmingyang/data/reasoning/OlympiadBench\"\n",
    "configs = ['OE_MM_maths_en_COMP', 'OE_MM_maths_zh_CEE', 'OE_MM_maths_zh_COMP', 'OE_MM_physics_en_COMP', 'OE_MM_physics_zh_CEE', 'OE_TO_maths_en_COMP', 'OE_TO_maths_zh_CEE', 'OE_TO_maths_zh_COMP', 'OE_TO_physics_en_COMP', 'OE_TO_physics_zh_CEE', 'TP_MM_maths_en_COMP', 'TP_MM_maths_zh_CEE', 'TP_MM_maths_zh_COMP', 'TP_MM_physics_en_COMP', 'TP_TO_maths_en_COMP', 'TP_TO_maths_zh_CEE', 'TP_TO_maths_zh_COMP', 'TP_TO_physics_en_COMP']\n"
   ]
  },
  {
   "cell_type": "code",
   "execution_count": 37,
   "metadata": {},
   "outputs": [
    {
     "data": {
      "text/plain": [
       "3607"
      ]
     },
     "execution_count": 37,
     "metadata": {},
     "output_type": "execute_result"
    }
   ],
   "source": [
    "cnt = 0\n",
    "target_item = None\n",
    "target_list = []\n",
    "for config in configs:\n",
    "    dataset = load_dataset(dataset_addr,config)\n",
    "    for item in dataset[\"train\"]:\n",
    "        if item[\"modality\"] != \"Multimodal\":\n",
    "            cnt += 1\n",
    "            target_list.append(item)\n",
    "    \n"
   ]
  },
  {
   "cell_type": "code",
   "execution_count": 44,
   "metadata": {},
   "outputs": [
    {
     "data": {
      "text/plain": [
       "{'id': 1620,\n",
       " 'question': 'Let $n \\\\geqslant 2$ be an integer, and let $f$ be a $4 n$-variable polynomial with real coefficients. Assume that, for any $2 n$ points $\\\\left(x_{1}, y_{1}\\\\right), \\\\ldots,\\\\left(x_{2 n}, y_{2 n}\\\\right)$ in the plane, $f\\\\left(x_{1}, y_{1}, \\\\ldots, x_{2 n}, y_{2 n}\\\\right)=0$ if and only if the points form the vertices of a regular $2 n$-gon in some order, or are all equal.\\n\\n\\n\\nDetermine the smallest possible degree of $f$.',\n",
       " 'solution': [\"The smallest possible degree is $2 n$. In what follows, we will frequently write $A_{i}=$ $\\\\left(x_{i}, y_{i}\\\\right)$, and abbreviate $P\\\\left(x_{1}, y_{1}, \\\\ldots, x_{2 n}, y_{2 n}\\\\right)$ to $P\\\\left(A_{1}, \\\\ldots, A_{2 n}\\\\right)$ or as a function of any $2 n$ points.\\n\\n\\n\\nSuppose that $f$ is valid. First, we note a key property:\\n\\n\\n\\nClaim (Sign of $f$ ). $f$ attains wither only nonnegative values, or only nonpositive values.\\n\\n\\n\\nProof. This follows from the fact that the zero-set of $f$ is very sparse: if $f$ takes on a positive and a negative value, we can move $A_{1}, \\\\ldots, A_{2 n}$ from the negative value to the positive value without ever having them form a regular $2 n$-gon - a contradiction.\\n\\n\\n\\nThe strategy for showing $\\\\operatorname{deg} f \\\\geq 2 n$ is the following. We will animate the points $A_{1}, \\\\ldots, A_{2 n}$ linearly in a variable $t$; then $g(t)=f\\\\left(A_{1}, \\\\ldots, A_{2 n}\\\\right)$ will have degree at most $\\\\operatorname{deg} f$ (assuming it is not zero). The claim above then establishes that any root of $g$ must be a multiple root, so if we can show that there are at least $n$ roots, we will have shown $\\\\operatorname{deg} g \\\\geq 2 n$, and so $\\\\operatorname{deg} f \\\\geq 2 n$.\\n\\n\\n\\nGeometrically, our goal is to exhibit $2 n$ linearly moving points so that they form a regular $2 n$-gon a total of $n$ times, but not always form one.\\n\\n\\n\\nWe will do this as follows. Draw $n$ mirrors through the origin, as lines making angles of $\\\\frac{\\\\pi}{n}$ with each other. Then, any point $P$ has a total of $2 n$ reflections in the mirrors, as shown below for $n=5$. (Some of these reflections may overlap.)\\n\\n\\n\\nDraw the $n$ angle bisectors of adjacent mirrors. Observe that the reflections of $P$ form a regular $2 n$ gon if and only if $P$ lies on one of the bisectors.\\n\\n\\n\\nWe will animate $P$ on any line $\\\\ell$ which intersects all $n$ bisectors (but does not pass through the origin), and let $P_{1}, \\\\ldots, P_{2 n}$ be its reflections. Clearly, these are also all linearly animated, and because of the reasons above, they will form a regular $2 n$-gon exactly $n$ times, when $\\\\ell$ meets each bisector. So this establishes $\\\\operatorname{deg} f \\\\geq 2 n$ for the reasons described previously.\\n\\n\\n\\nNow we pass to constructing a polynomial $f$ of degree $2 n$ having the desired property. First of all, we will instead find a polynomial $g$ which has this property, but only when points with sum zero are input. This still solves the problem, because then we can choose\\n\\n\\n\\n$$\\nf\\\\left(A_{1}, A_{2}, \\\\ldots, A_{2 n}\\\\right)=g\\\\left(A_{1}-\\\\bar{A}, \\\\ldots, A_{2 n}-\\\\bar{A}\\\\right)\\n$$\\n\\n\\n\\nwhere $\\\\bar{A}$ is the centroid of $A_{1}, \\\\ldots, A_{2 n}$. This has the upshot that we can now always assume $A_{1}+\\\\cdots+A_{2 n}=0$, which will simplify the ensuing discussion.\\n\\n\\n\\n<img_3624>\\n\\n\\n\\nWe will now construct a suitable $g$ as a sum of squares. This means that, if we write $g=g_{1}^{2}+g_{2}^{2}+$ $\\\\cdots+g_{m}^{2}$, then $g=0$ if and only if $g_{1}=\\\\cdots=g_{m}=0$, and that if their degrees are $d_{1}, \\\\ldots, d_{m}$, then $g$ has degree at most $2 \\\\max \\\\left(d_{1}, \\\\ldots, d_{m}\\\\right)$.\\n\\n\\n\\nThus, it is sufficient to exhibit several polynomials, all of degree at most $n$, such that $2 n$ points with zero sum are the vertices of a regular $2 n$-gon if and only if the polynomials are all zero at those points.\\n\\n\\n\\n\\n\\n\\n\\nFirst, we will impose the constraints that all $\\\\left|A_{i}\\\\right|^{2}=x_{i}^{2}+y_{i}^{2}$ are equal. This uses multiple degree 2 constraints.\\n\\n\\n\\nNow, we may assume that the points $A_{1}, \\\\ldots, A_{2 n}$ all lie on a circle with centre 0 , and $A_{1}+\\\\cdots+A_{2 n}=0$. If this circle has radius 0 , then all $A_{i}$ coincide, and we may ignore this case.\\n\\n\\n\\nOtherwise, the circle has positive radius. We will use the following lemma.\\n\\n\\n\\nLemma. Suppose that $a_{1}, \\\\ldots, a_{2 n}$ are complex numbers of the same non-zero magnitude, and suppose that $a_{1}^{k}+\\\\cdots+a_{2 n}^{k}=0, k=1, \\\\ldots, n$. Then $a_{1}, \\\\ldots, a_{2 n}$ form a regular $2 n$-gon centred at the origin. (Conversely, this is easily seen to be sufficient.)\\n\\n\\n\\nProof. Since all the hypotheses are homogenous, we may assume (mostly for convenience) that $a_{1}, \\\\ldots, a_{2 n}$ lie on the unit circle. By Newton's sums, the $k$-th symmetric sums of $a_{1}, \\\\ldots, a_{2 n}$ are all zero for $k$ in the range $1, \\\\ldots, n$.\\n\\n\\n\\nTaking conjugates yields $a_{1}^{-k}+\\\\cdots+a_{2 n}^{-k}=0$, $k=1, \\\\ldots, n$. Thus, we can repeat the above logic to obtain that the $k$-th symmetric sums of $a_{1}^{-1}, \\\\ldots, a_{2 n}^{-1}$ are also all zero for $k=1, \\\\ldots, n$. However, these are simply the $(2 n-k)$-th symmetric sums of $a_{1}, \\\\ldots, a_{2 n}$ (divided by $a_{1} \\\\cdots a_{2 n}$ ), so the first $2 n-1$ symmetric sums of $a_{1}, \\\\ldots, a_{2 n}$ are all zero. This implies that $a_{1}, \\\\ldots, a_{2 n}$ form a regular $2 n$-gon centred at the origin.\\n\\n\\n\\nWe will encode all of these constraints into our polynomial. More explicitly, write $a_{r}=x_{r}+y_{r} i$; then the constraint $a_{1}^{k}+\\\\cdots+a_{2 n}^{k}=0$ can be expressed as $p_{k}+q_{k} i=0$, where $p_{k}$ and $q_{k}$ are real polynomials in the coordinates. To incorporate this, simply impose the constraints $p_{k}=0$ and $q_{k}=0$; these are conditions of degree $k \\\\leq n$, so their squares are all of degree at most $2 n$.\\n\\n\\n\\nTo recap, taking the sum of squares of all of these constraints gives a polynomial $f$ of degree at most $2 n$ which works whenever $A_{1}+\\\\cdots+A_{2 n}=0$. Finally, the centroid-shifting trick gives a polynomial which works in general, as wanted.\"],\n",
       " 'final_answer': ['$2n$'],\n",
       " 'context': None,\n",
       " 'image_1': None,\n",
       " 'image_2': None,\n",
       " 'image_3': None,\n",
       " 'image_4': None,\n",
       " 'image_5': None,\n",
       " 'modality': 'Text-only',\n",
       " 'difficulty': 'Competition',\n",
       " 'is_multiple_answer': False,\n",
       " 'unit': None,\n",
       " 'answer_type': 'Expression',\n",
       " 'error': None,\n",
       " 'question_type': 'Open-ended',\n",
       " 'subfield': 'Algebra',\n",
       " 'subject': 'Math',\n",
       " 'language': 'English'}"
      ]
     },
     "execution_count": 44,
     "metadata": {},
     "output_type": "execute_result"
    }
   ],
   "source": [
    "target_list[6]"
   ]
  },
  {
   "cell_type": "code",
   "execution_count": 26,
   "metadata": {},
   "outputs": [],
   "source": [
    "cnt = 0\n",
    "for item in dataset[\"train\"]:\n",
    "    if item[\"modality\"] != \"Multimodal\":\n",
    "        cnt += 1\n",
    "        # print(item[\"modality\"])\n",
    "        "
   ]
  },
  {
   "cell_type": "code",
   "execution_count": 34,
   "metadata": {},
   "outputs": [
    {
     "data": {
      "text/plain": [
       "3607"
      ]
     },
     "execution_count": 34,
     "metadata": {},
     "output_type": "execute_result"
    }
   ],
   "source": [
    "cnt"
   ]
  },
  {
   "cell_type": "code",
   "execution_count": 5,
   "metadata": {},
   "outputs": [
    {
     "data": {
      "text/plain": [
       "10"
      ]
     },
     "execution_count": 5,
     "metadata": {},
     "output_type": "execute_result"
    }
   ],
   "source": [
    "import random\n",
    "random.seed(42)\n",
    "random.randint(0,10)"
   ]
  },
  {
   "cell_type": "code",
   "execution_count": 7,
   "metadata": {},
   "outputs": [],
   "source": [
    "random.seed(42)\n",
    "a = random.randint(0,10)\n",
    "b = random.randint(0,10)\n"
   ]
  },
  {
   "cell_type": "code",
   "execution_count": 8,
   "metadata": {},
   "outputs": [
    {
     "data": {
      "text/plain": [
       "(10, 1)"
      ]
     },
     "execution_count": 8,
     "metadata": {},
     "output_type": "execute_result"
    }
   ],
   "source": [
    "a,b"
   ]
  },
  {
   "cell_type": "code",
   "execution_count": null,
   "metadata": {},
   "outputs": [],
   "source": []
  }
 ],
 "metadata": {
  "kernelspec": {
   "display_name": "smoe",
   "language": "python",
   "name": "python3"
  },
  "language_info": {
   "codemirror_mode": {
    "name": "ipython",
    "version": 3
   },
   "file_extension": ".py",
   "mimetype": "text/x-python",
   "name": "python",
   "nbconvert_exporter": "python",
   "pygments_lexer": "ipython3",
   "version": "3.11.8"
  }
 },
 "nbformat": 4,
 "nbformat_minor": 2
}
