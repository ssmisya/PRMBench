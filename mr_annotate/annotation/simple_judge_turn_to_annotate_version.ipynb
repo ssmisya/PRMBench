{
 "cells": [
  {
   "cell_type": "code",
   "execution_count": 2,
   "metadata": {},
   "outputs": [],
   "source": [
    "from mr_eval.utils.utils import *\n",
    "import uuid"
   ]
  },
  {
   "cell_type": "code",
   "execution_count": 11,
   "metadata": {},
   "outputs": [
    {
     "name": "stdout",
     "output_type": "stream",
     "text": [
      "Total number of examples: 174\n"
     ]
    }
   ],
   "source": [
    "# First combine all qwq generated answers into one file:\n",
    "files = [\n",
    "    \"/mnt/petrelfs/songmingyang/code/reasoning/MR_Hallucination/mr_annotate/build_data/selection_of_data/new_8_classes/one_question_multi_answer/prm_test_p1_qwq.jsonl\",\n",
    "    \"/mnt/petrelfs/songmingyang/code/reasoning/MR_Hallucination/mr_annotate/build_data/selection_of_data/new_8_classes/one_question_multi_answer/prm_test_p2_qwq.jsonl\"\n",
    "]\n",
    "output_file = \"/mnt/petrelfs/songmingyang/code/reasoning/MR_Hallucination/mr_annotate/annotation/data/multi_solutions/prm_test12_qwq.jsonl\"\n",
    "\n",
    "output_data = []\n",
    "for input_file in files:\n",
    "    a = process_jsonl(input_file)\n",
    "    output_data.extend(a)\n",
    "\n",
    "cleaned_data = []\n",
    "for item in output_data:\n",
    "    if item[\"modified_process\"] == [] or len(item[\"modified_process\"]) == 0:\n",
    "        continue\n",
    "    cleaned_data.append(item)\n",
    "print(f\"Total number of examples: {len(cleaned_data)}\")\n",
    "write_jsonl(cleaned_data, output_file)"
   ]
  },
  {
   "cell_type": "code",
   "execution_count": 12,
   "metadata": {},
   "outputs": [],
   "source": [
    "# then load from the combined file and generate the final qwq file\n",
    "input_data = process_jsonl(output_file)\n",
    "tobe_annotated_file = \"/mnt/petrelfs/songmingyang/code/reasoning/MR_Hallucination/mr_annotate/annotation/data/multi_solutions/prm_test12_qwq_tobe_annotated.jsonl\"\n",
    "\n",
    "prompt=\"\"\"\n",
    "### Requirements\n",
    "Please annotate whether the solution procedure provided is correct or not.\n",
    "Please annotate whether the solution remains the same with the original question or not.\n",
    "\"\"\"\n",
    "\n",
    "def process_str_to_label_obj(string):\n",
    "    res_id = str(uuid.uuid5(uuid.NAMESPACE_DNS, string))\n",
    "    res =  dict(\n",
    "        message_id = res_id,\n",
    "        content=string,\n",
    "        message_type = \"receive\",\n",
    "        user_id = \"\",\n",
    "        parent_id = None, \n",
    "    )\n",
    "    return res"
   ]
  },
  {
   "cell_type": "code",
   "execution_count": 13,
   "metadata": {},
   "outputs": [],
   "source": [
    "output_data = []\n",
    "for item in input_data:\n",
    "    original_process = item[\"original_process\"]\n",
    "    modified_process = item[\"modified_process\"]\n",
    "    new_original_process = []\n",
    "    new_modified_process = []\n",
    "    for idx,step in enumerate(original_process):\n",
    "        step = f\"{idx+1}. {step}\"\n",
    "        new_original_process.append(step)\n",
    "    \n",
    "    for idx,step in enumerate(modified_process):\n",
    "        step = f\"{idx+1}. {step}\"\n",
    "        new_modified_process.append(step)\n",
    "    \n",
    "    original_process = \"## Origin Process \\n\\n\" + \"\\n\\n\".join(new_original_process)\n",
    "    modified_process = \"## Modified Process \\n\\n\" + \"\\n\\n\".join(new_modified_process)\n",
    "    \n",
    "    # modified_steps = \"## Modified Steps \\n\\n\" + str(item[\"modified_steps\"])\n",
    "    # hallucination_types = \"## Hallucination Types \\n\\n\" + str(item[\"hallucination_types\"])\n",
    "    # hallucination_steps = \"## Hallucination Steps \\n\\n\" + str(item[\"hallucination_steps\"])\n",
    "    # reason = \"## Reason \\n\\n\" + str(item[\"reason\"])\n",
    "    \n",
    "    # step_conv = modified_steps + \"\\n\\n\" + hallucination_steps + \"\\n\\n\" + hallucination_types + \"\\n\\n\" + reason\n",
    "    question = item[\"question\"]\n",
    "    ground_truth = item[\"ground_truth\"]\n",
    "    \n",
    "    question = process_str_to_label_obj(f\"###Question:\\n\\n{question}\")\n",
    "    ground_truth = process_str_to_label_obj(f\"###Ground Truth:\\n\\n{ground_truth}\")\n",
    "    original_process = process_str_to_label_obj(original_process)\n",
    "    modified_process = process_str_to_label_obj(modified_process)\n",
    "    # step_conv = process_str_to_label_obj(step_conv)\n",
    "    conv_list = [question, ground_truth, original_process, modified_process, ]\n",
    "    # print(conversation)\n",
    "    # prompt=\"请判断LM给出的改动是否合理\"\n",
    "    output_data.append({\"prompt\": prompt, \"conversation\": conv_list,\"custom\":item})"
   ]
  },
  {
   "cell_type": "code",
   "execution_count": 14,
   "metadata": {},
   "outputs": [],
   "source": [
    "write_jsonl(output_data, tobe_annotated_file)"
   ]
  },
  {
   "cell_type": "code",
   "execution_count": 8,
   "metadata": {},
   "outputs": [],
   "source": [
    "## After annotation, we need to combine the annotated data into the original data file\n",
    "\n",
    "annotation_file = \"/mnt/petrelfs/songmingyang/code/reasoning/MR_Hallucination/mr_annotate/annotation/data/multi_solutions/prm_testp12_qwq_annotations.jsonl\"\n",
    "classification = \"multi_solutions\"\n",
    "annotated_data = process_jsonl(annotation_file)"
   ]
  },
  {
   "cell_type": "code",
   "execution_count": 9,
   "metadata": {},
   "outputs": [
    {
     "name": "stdout",
     "output_type": "stream",
     "text": [
      "Total number of annotated examples: 165\n"
     ]
    }
   ],
   "source": [
    "filtered_data = []\n",
    "for item in annotated_data:\n",
    "    if item[\"evaluation\"][\"conversation_evaluation\"][\"correct\"] == \"true\" \\\n",
    "        and item[\"evaluation\"][\"conversation_evaluation\"][\"same\"] == \"false\":\n",
    "        item[\"custom\"][\"classification\"] = classification\n",
    "        filtered_data.append(item[\"custom\"])\n",
    "\n",
    "print(f\"Total number of annotated examples: {len(filtered_data)}\")"
   ]
  },
  {
   "cell_type": "code",
   "execution_count": 10,
   "metadata": {},
   "outputs": [],
   "source": [
    "output_file=\"/mnt/petrelfs/songmingyang/code/reasoning/MR_Hallucination/mr_annotate/build_data/selection_of_data/new_8_classes/one_question_multi_answer/prm_test_p12_multi_solutions.jsonl\"\n",
    "write_jsonl(filtered_data, output_file)"
   ]
  },
  {
   "cell_type": "markdown",
   "metadata": {},
   "source": []
  }
 ],
 "metadata": {
  "kernelspec": {
   "display_name": "smoe",
   "language": "python",
   "name": "python3"
  },
  "language_info": {
   "codemirror_mode": {
    "name": "ipython",
    "version": 3
   },
   "file_extension": ".py",
   "mimetype": "text/x-python",
   "name": "python",
   "nbconvert_exporter": "python",
   "pygments_lexer": "ipython3",
   "version": "3.11.8"
  }
 },
 "nbformat": 4,
 "nbformat_minor": 2
}
